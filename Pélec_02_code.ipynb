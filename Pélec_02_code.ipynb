{
 "cells": [
  {
   "cell_type": "code",
   "execution_count": 140,
   "metadata": {},
   "outputs": [],
   "source": [
    "import numpy as np \n",
    "import pandas as pd \n",
    "import seaborn as sns\n",
    "import matplotlib.pyplot as plt\n",
    "from sklearn import model_selection\n",
    "from sklearn.model_selection import train_test_split\n",
    "from sklearn.preprocessing import RobustScaler\n",
    "from sklearn.preprocessing import LabelEncoder\n",
    "from sklearn.neural_network import MLPRegressor\n",
    "from sklearn.neighbors import KNeighborsRegressor\n",
    "from sklearn import linear_model\n",
    "from sklearn.svm import SVR\n",
    "from sklearn.tree import DecisionTreeRegressor\n",
    "from sklearn.ensemble import RandomForestRegressor, AdaBoostRegressor\n",
    "from sklearn.naive_bayes import GaussianNB"
   ]
  },
  {
   "cell_type": "code",
   "execution_count": 141,
   "metadata": {},
   "outputs": [
    {
     "data": {
      "text/html": [
       "<div>\n",
       "<style scoped>\n",
       "    .dataframe tbody tr th:only-of-type {\n",
       "        vertical-align: middle;\n",
       "    }\n",
       "\n",
       "    .dataframe tbody tr th {\n",
       "        vertical-align: top;\n",
       "    }\n",
       "\n",
       "    .dataframe thead th {\n",
       "        text-align: right;\n",
       "    }\n",
       "</style>\n",
       "<table border=\"1\" class=\"dataframe\">\n",
       "  <thead>\n",
       "    <tr style=\"text-align: right;\">\n",
       "      <th></th>\n",
       "      <th>DataYear</th>\n",
       "      <th>YearBuilt</th>\n",
       "      <th>NumberofBuildings</th>\n",
       "      <th>NumberofFloors</th>\n",
       "      <th>PropertyGFATotal</th>\n",
       "      <th>PropertyGFAParking</th>\n",
       "      <th>PropertyGFABuilding(s)</th>\n",
       "      <th>LargestPropertyUseTypeGFA</th>\n",
       "      <th>ENERGYSTARScore</th>\n",
       "      <th>SiteEUIWN(kBtu/sf)</th>\n",
       "      <th>...</th>\n",
       "      <th>SiteEnergyUseWN(kBtu)</th>\n",
       "      <th>SteamUse(kBtu)</th>\n",
       "      <th>Electricity(kBtu)</th>\n",
       "      <th>NaturalGas(kBtu)</th>\n",
       "      <th>TotalGHGEmissions</th>\n",
       "      <th>GHGEmissionsIntensity</th>\n",
       "      <th>BuildingType</th>\n",
       "      <th>PrimaryPropertyType</th>\n",
       "      <th>Neighborhood</th>\n",
       "      <th>ZipCode</th>\n",
       "    </tr>\n",
       "  </thead>\n",
       "  <tbody>\n",
       "    <tr>\n",
       "      <th>0</th>\n",
       "      <td>2015.0</td>\n",
       "      <td>1989.0</td>\n",
       "      <td>1.0</td>\n",
       "      <td>4.0</td>\n",
       "      <td>111077.0</td>\n",
       "      <td>0.0</td>\n",
       "      <td>111077.0</td>\n",
       "      <td>NaN</td>\n",
       "      <td>91.0</td>\n",
       "      <td>62.1</td>\n",
       "      <td>...</td>\n",
       "      <td>10155788.0</td>\n",
       "      <td>0.0</td>\n",
       "      <td>9899135.0</td>\n",
       "      <td>0.0</td>\n",
       "      <td>69.01</td>\n",
       "      <td>0.24</td>\n",
       "      <td>NonResidential</td>\n",
       "      <td>Retail Store</td>\n",
       "      <td>DOWNTOWN</td>\n",
       "      <td>18081.0</td>\n",
       "    </tr>\n",
       "    <tr>\n",
       "      <th>1</th>\n",
       "      <td>2015.0</td>\n",
       "      <td>1906.0</td>\n",
       "      <td>1.0</td>\n",
       "      <td>6.0</td>\n",
       "      <td>98370.0</td>\n",
       "      <td>25920.0</td>\n",
       "      <td>72450.0</td>\n",
       "      <td>98370.0</td>\n",
       "      <td>45.0</td>\n",
       "      <td>66.5</td>\n",
       "      <td>...</td>\n",
       "      <td>6541579.0</td>\n",
       "      <td>0.0</td>\n",
       "      <td>6488262.0</td>\n",
       "      <td>37893.0</td>\n",
       "      <td>47.24</td>\n",
       "      <td>0.20</td>\n",
       "      <td>NonResidential</td>\n",
       "      <td>Small- and Mid-Sized Office</td>\n",
       "      <td>DOWNTOWN</td>\n",
       "      <td>18081.0</td>\n",
       "    </tr>\n",
       "    <tr>\n",
       "      <th>2</th>\n",
       "      <td>2015.0</td>\n",
       "      <td>1947.0</td>\n",
       "      <td>1.0</td>\n",
       "      <td>4.0</td>\n",
       "      <td>193788.0</td>\n",
       "      <td>37854.0</td>\n",
       "      <td>155934.0</td>\n",
       "      <td>138672.0</td>\n",
       "      <td>59.0</td>\n",
       "      <td>104.0</td>\n",
       "      <td>...</td>\n",
       "      <td>16463978.0</td>\n",
       "      <td>0.0</td>\n",
       "      <td>16760914.0</td>\n",
       "      <td>0.0</td>\n",
       "      <td>116.84</td>\n",
       "      <td>0.23</td>\n",
       "      <td>NonResidential</td>\n",
       "      <td>Large Office</td>\n",
       "      <td>LAKE UNION</td>\n",
       "      <td>18390.0</td>\n",
       "    </tr>\n",
       "    <tr>\n",
       "      <th>3</th>\n",
       "      <td>2015.0</td>\n",
       "      <td>2008.0</td>\n",
       "      <td>1.0</td>\n",
       "      <td>3.0</td>\n",
       "      <td>76598.0</td>\n",
       "      <td>21410.0</td>\n",
       "      <td>55188.0</td>\n",
       "      <td>55188.0</td>\n",
       "      <td>76.0</td>\n",
       "      <td>83.7</td>\n",
       "      <td>...</td>\n",
       "      <td>4617864.0</td>\n",
       "      <td>0.0</td>\n",
       "      <td>2234200.0</td>\n",
       "      <td>2242889.0</td>\n",
       "      <td>134.69</td>\n",
       "      <td>1.63</td>\n",
       "      <td>NonResidential</td>\n",
       "      <td>Small- and Mid-Sized Office</td>\n",
       "      <td>GREATER DUWAMISH</td>\n",
       "      <td>18388.0</td>\n",
       "    </tr>\n",
       "    <tr>\n",
       "      <th>4</th>\n",
       "      <td>2015.0</td>\n",
       "      <td>1981.0</td>\n",
       "      <td>1.0</td>\n",
       "      <td>4.0</td>\n",
       "      <td>186971.0</td>\n",
       "      <td>0.0</td>\n",
       "      <td>186971.0</td>\n",
       "      <td>186977.0</td>\n",
       "      <td>86.0</td>\n",
       "      <td>72.6</td>\n",
       "      <td>...</td>\n",
       "      <td>13575377.0</td>\n",
       "      <td>0.0</td>\n",
       "      <td>9657951.0</td>\n",
       "      <td>3004906.0</td>\n",
       "      <td>226.92</td>\n",
       "      <td>0.99</td>\n",
       "      <td>NonResidential</td>\n",
       "      <td>Large Office</td>\n",
       "      <td>LAKE UNION</td>\n",
       "      <td>18390.0</td>\n",
       "    </tr>\n",
       "  </tbody>\n",
       "</table>\n",
       "<p>5 rows × 21 columns</p>\n",
       "</div>"
      ],
      "text/plain": [
       "   DataYear  YearBuilt  NumberofBuildings  NumberofFloors  PropertyGFATotal  \\\n",
       "0    2015.0     1989.0                1.0             4.0          111077.0   \n",
       "1    2015.0     1906.0                1.0             6.0           98370.0   \n",
       "2    2015.0     1947.0                1.0             4.0          193788.0   \n",
       "3    2015.0     2008.0                1.0             3.0           76598.0   \n",
       "4    2015.0     1981.0                1.0             4.0          186971.0   \n",
       "\n",
       "   PropertyGFAParking  PropertyGFABuilding(s)  LargestPropertyUseTypeGFA  \\\n",
       "0                 0.0                111077.0                        NaN   \n",
       "1             25920.0                 72450.0                    98370.0   \n",
       "2             37854.0                155934.0                   138672.0   \n",
       "3             21410.0                 55188.0                    55188.0   \n",
       "4                 0.0                186971.0                   186977.0   \n",
       "\n",
       "   ENERGYSTARScore  SiteEUIWN(kBtu/sf)  ...  SiteEnergyUseWN(kBtu)  \\\n",
       "0             91.0                62.1  ...             10155788.0   \n",
       "1             45.0                66.5  ...              6541579.0   \n",
       "2             59.0               104.0  ...             16463978.0   \n",
       "3             76.0                83.7  ...              4617864.0   \n",
       "4             86.0                72.6  ...             13575377.0   \n",
       "\n",
       "   SteamUse(kBtu)  Electricity(kBtu)  NaturalGas(kBtu)  TotalGHGEmissions  \\\n",
       "0             0.0          9899135.0               0.0              69.01   \n",
       "1             0.0          6488262.0           37893.0              47.24   \n",
       "2             0.0         16760914.0               0.0             116.84   \n",
       "3             0.0          2234200.0         2242889.0             134.69   \n",
       "4             0.0          9657951.0         3004906.0             226.92   \n",
       "\n",
       "   GHGEmissionsIntensity    BuildingType          PrimaryPropertyType  \\\n",
       "0                   0.24  NonResidential                 Retail Store   \n",
       "1                   0.20  NonResidential  Small- and Mid-Sized Office   \n",
       "2                   0.23  NonResidential                 Large Office   \n",
       "3                   1.63  NonResidential  Small- and Mid-Sized Office   \n",
       "4                   0.99  NonResidential                 Large Office   \n",
       "\n",
       "       Neighborhood  ZipCode  \n",
       "0          DOWNTOWN  18081.0  \n",
       "1          DOWNTOWN  18081.0  \n",
       "2        LAKE UNION  18390.0  \n",
       "3  GREATER DUWAMISH  18388.0  \n",
       "4        LAKE UNION  18390.0  \n",
       "\n",
       "[5 rows x 21 columns]"
      ]
     },
     "execution_count": 141,
     "metadata": {},
     "output_type": "execute_result"
    }
   ],
   "source": [
    "#chargement du fichier nettoyé\n",
    "data = pd.read_csv(\"build_data_to_model1.csv\")\n",
    "data.head()"
   ]
  },
  {
   "cell_type": "code",
   "execution_count": 142,
   "metadata": {},
   "outputs": [
    {
     "name": "stdout",
     "output_type": "stream",
     "text": [
      "<class 'pandas.core.frame.DataFrame'>\n",
      "RangeIndex: 1697 entries, 0 to 1696\n",
      "Data columns (total 21 columns):\n",
      " #   Column                     Non-Null Count  Dtype  \n",
      "---  ------                     --------------  -----  \n",
      " 0   DataYear                   1697 non-null   float64\n",
      " 1   YearBuilt                  1697 non-null   float64\n",
      " 2   NumberofBuildings          1697 non-null   float64\n",
      " 3   NumberofFloors             1697 non-null   float64\n",
      " 4   PropertyGFATotal           1697 non-null   float64\n",
      " 5   PropertyGFAParking         1697 non-null   float64\n",
      " 6   PropertyGFABuilding(s)     1697 non-null   float64\n",
      " 7   LargestPropertyUseTypeGFA  1685 non-null   float64\n",
      " 8   ENERGYSTARScore            1154 non-null   float64\n",
      " 9   SiteEUIWN(kBtu/sf)         1697 non-null   float64\n",
      " 10  SourceEUIWN(kBtu/sf)       1697 non-null   float64\n",
      " 11  SiteEnergyUseWN(kBtu)      1697 non-null   float64\n",
      " 12  SteamUse(kBtu)             1697 non-null   float64\n",
      " 13  Electricity(kBtu)          1697 non-null   float64\n",
      " 14  NaturalGas(kBtu)           1697 non-null   float64\n",
      " 15  TotalGHGEmissions          1697 non-null   float64\n",
      " 16  GHGEmissionsIntensity      1697 non-null   float64\n",
      " 17  BuildingType               1577 non-null   object \n",
      " 18  PrimaryPropertyType        1577 non-null   object \n",
      " 19  Neighborhood               1577 non-null   object \n",
      " 20  ZipCode                    1564 non-null   float64\n",
      "dtypes: float64(18), object(3)\n",
      "memory usage: 278.5+ KB\n"
     ]
    }
   ],
   "source": [
    "data.info()"
   ]
  },
  {
   "cell_type": "code",
   "execution_count": 143,
   "metadata": {},
   "outputs": [
    {
     "data": {
      "text/html": [
       "<div>\n",
       "<style scoped>\n",
       "    .dataframe tbody tr th:only-of-type {\n",
       "        vertical-align: middle;\n",
       "    }\n",
       "\n",
       "    .dataframe tbody tr th {\n",
       "        vertical-align: top;\n",
       "    }\n",
       "\n",
       "    .dataframe thead th {\n",
       "        text-align: right;\n",
       "    }\n",
       "</style>\n",
       "<table border=\"1\" class=\"dataframe\">\n",
       "  <thead>\n",
       "    <tr style=\"text-align: right;\">\n",
       "      <th></th>\n",
       "      <th>DataYear</th>\n",
       "      <th>YearBuilt</th>\n",
       "      <th>NumberofBuildings</th>\n",
       "      <th>NumberofFloors</th>\n",
       "      <th>PropertyGFATotal</th>\n",
       "      <th>PropertyGFAParking</th>\n",
       "      <th>PropertyGFABuilding(s)</th>\n",
       "      <th>LargestPropertyUseTypeGFA</th>\n",
       "      <th>ENERGYSTARScore</th>\n",
       "      <th>SiteEUIWN(kBtu/sf)</th>\n",
       "      <th>SourceEUIWN(kBtu/sf)</th>\n",
       "      <th>SiteEnergyUseWN(kBtu)</th>\n",
       "      <th>SteamUse(kBtu)</th>\n",
       "      <th>Electricity(kBtu)</th>\n",
       "      <th>NaturalGas(kBtu)</th>\n",
       "      <th>TotalGHGEmissions</th>\n",
       "      <th>GHGEmissionsIntensity</th>\n",
       "      <th>ZipCode</th>\n",
       "    </tr>\n",
       "  </thead>\n",
       "  <tbody>\n",
       "    <tr>\n",
       "      <th>count</th>\n",
       "      <td>1697.000000</td>\n",
       "      <td>1697.000000</td>\n",
       "      <td>1697.000000</td>\n",
       "      <td>1697.000000</td>\n",
       "      <td>1.697000e+03</td>\n",
       "      <td>1697.000000</td>\n",
       "      <td>1.697000e+03</td>\n",
       "      <td>1.685000e+03</td>\n",
       "      <td>1154.000000</td>\n",
       "      <td>1697.000000</td>\n",
       "      <td>1697.000000</td>\n",
       "      <td>1.697000e+03</td>\n",
       "      <td>1.697000e+03</td>\n",
       "      <td>1.697000e+03</td>\n",
       "      <td>1.697000e+03</td>\n",
       "      <td>1697.000000</td>\n",
       "      <td>1697.000000</td>\n",
       "      <td>1564.000000</td>\n",
       "    </tr>\n",
       "    <tr>\n",
       "      <th>mean</th>\n",
       "      <td>2015.982911</td>\n",
       "      <td>1961.710077</td>\n",
       "      <td>1.148792</td>\n",
       "      <td>4.103712</td>\n",
       "      <td>1.183821e+05</td>\n",
       "      <td>13429.637596</td>\n",
       "      <td>1.049525e+05</td>\n",
       "      <td>9.886330e+04</td>\n",
       "      <td>64.951906</td>\n",
       "      <td>75.219210</td>\n",
       "      <td>179.240719</td>\n",
       "      <td>8.121502e+06</td>\n",
       "      <td>5.133132e+05</td>\n",
       "      <td>5.865634e+06</td>\n",
       "      <td>1.971806e+06</td>\n",
       "      <td>185.235053</td>\n",
       "      <td>1.501859</td>\n",
       "      <td>96643.709079</td>\n",
       "    </tr>\n",
       "    <tr>\n",
       "      <th>std</th>\n",
       "      <td>0.129641</td>\n",
       "      <td>32.859346</td>\n",
       "      <td>2.810985</td>\n",
       "      <td>6.518106</td>\n",
       "      <td>2.952745e+05</td>\n",
       "      <td>42950.127462</td>\n",
       "      <td>2.807659e+05</td>\n",
       "      <td>2.758224e+05</td>\n",
       "      <td>28.041709</td>\n",
       "      <td>74.930650</td>\n",
       "      <td>183.519181</td>\n",
       "      <td>2.204160e+07</td>\n",
       "      <td>5.351773e+06</td>\n",
       "      <td>2.069226e+07</td>\n",
       "      <td>9.400898e+06</td>\n",
       "      <td>745.538021</td>\n",
       "      <td>2.266608</td>\n",
       "      <td>10720.867756</td>\n",
       "    </tr>\n",
       "    <tr>\n",
       "      <th>min</th>\n",
       "      <td>2015.000000</td>\n",
       "      <td>1900.000000</td>\n",
       "      <td>0.500000</td>\n",
       "      <td>0.000000</td>\n",
       "      <td>1.128500e+04</td>\n",
       "      <td>-1.000000</td>\n",
       "      <td>-8.451000e+03</td>\n",
       "      <td>6.455000e+03</td>\n",
       "      <td>1.000000</td>\n",
       "      <td>0.000000</td>\n",
       "      <td>-2.050000</td>\n",
       "      <td>0.000000e+00</td>\n",
       "      <td>0.000000e+00</td>\n",
       "      <td>7.000000e+00</td>\n",
       "      <td>0.000000e+00</td>\n",
       "      <td>0.120000</td>\n",
       "      <td>0.000000</td>\n",
       "      <td>17919.000000</td>\n",
       "    </tr>\n",
       "    <tr>\n",
       "      <th>25%</th>\n",
       "      <td>2016.000000</td>\n",
       "      <td>1930.000000</td>\n",
       "      <td>1.000000</td>\n",
       "      <td>1.000000</td>\n",
       "      <td>2.939200e+04</td>\n",
       "      <td>0.000000</td>\n",
       "      <td>2.832000e+04</td>\n",
       "      <td>2.548000e+04</td>\n",
       "      <td>46.500000</td>\n",
       "      <td>35.600000</td>\n",
       "      <td>80.699999</td>\n",
       "      <td>1.334535e+06</td>\n",
       "      <td>0.000000e+00</td>\n",
       "      <td>7.328030e+05</td>\n",
       "      <td>0.000000e+00</td>\n",
       "      <td>20.150000</td>\n",
       "      <td>0.275000</td>\n",
       "      <td>98104.000000</td>\n",
       "    </tr>\n",
       "    <tr>\n",
       "      <th>50%</th>\n",
       "      <td>2016.000000</td>\n",
       "      <td>1965.000000</td>\n",
       "      <td>1.000000</td>\n",
       "      <td>2.000000</td>\n",
       "      <td>4.925200e+04</td>\n",
       "      <td>0.000000</td>\n",
       "      <td>4.736800e+04</td>\n",
       "      <td>4.347300e+04</td>\n",
       "      <td>72.500000</td>\n",
       "      <td>54.700001</td>\n",
       "      <td>135.100003</td>\n",
       "      <td>2.715609e+06</td>\n",
       "      <td>0.000000e+00</td>\n",
       "      <td>1.649172e+06</td>\n",
       "      <td>4.974050e+05</td>\n",
       "      <td>50.215000</td>\n",
       "      <td>0.785000</td>\n",
       "      <td>98109.000000</td>\n",
       "    </tr>\n",
       "    <tr>\n",
       "      <th>75%</th>\n",
       "      <td>2016.000000</td>\n",
       "      <td>1989.000000</td>\n",
       "      <td>1.000000</td>\n",
       "      <td>4.000000</td>\n",
       "      <td>1.067720e+05</td>\n",
       "      <td>0.000000</td>\n",
       "      <td>9.494800e+04</td>\n",
       "      <td>9.193500e+04</td>\n",
       "      <td>88.000000</td>\n",
       "      <td>86.400002</td>\n",
       "      <td>208.650002</td>\n",
       "      <td>7.302520e+06</td>\n",
       "      <td>0.000000e+00</td>\n",
       "      <td>4.871044e+06</td>\n",
       "      <td>1.507822e+06</td>\n",
       "      <td>139.630000</td>\n",
       "      <td>1.765000</td>\n",
       "      <td>98122.000000</td>\n",
       "    </tr>\n",
       "    <tr>\n",
       "      <th>max</th>\n",
       "      <td>2016.000000</td>\n",
       "      <td>2015.000000</td>\n",
       "      <td>111.000000</td>\n",
       "      <td>99.000000</td>\n",
       "      <td>9.320156e+06</td>\n",
       "      <td>512608.000000</td>\n",
       "      <td>9.320156e+06</td>\n",
       "      <td>9.320156e+06</td>\n",
       "      <td>100.000000</td>\n",
       "      <td>834.400024</td>\n",
       "      <td>2620.000000</td>\n",
       "      <td>4.716139e+08</td>\n",
       "      <td>1.314066e+08</td>\n",
       "      <td>6.570744e+08</td>\n",
       "      <td>2.979090e+08</td>\n",
       "      <td>16870.980000</td>\n",
       "      <td>34.090000</td>\n",
       "      <td>98199.000000</td>\n",
       "    </tr>\n",
       "  </tbody>\n",
       "</table>\n",
       "</div>"
      ],
      "text/plain": [
       "          DataYear    YearBuilt  NumberofBuildings  NumberofFloors  \\\n",
       "count  1697.000000  1697.000000        1697.000000     1697.000000   \n",
       "mean   2015.982911  1961.710077           1.148792        4.103712   \n",
       "std       0.129641    32.859346           2.810985        6.518106   \n",
       "min    2015.000000  1900.000000           0.500000        0.000000   \n",
       "25%    2016.000000  1930.000000           1.000000        1.000000   \n",
       "50%    2016.000000  1965.000000           1.000000        2.000000   \n",
       "75%    2016.000000  1989.000000           1.000000        4.000000   \n",
       "max    2016.000000  2015.000000         111.000000       99.000000   \n",
       "\n",
       "       PropertyGFATotal  PropertyGFAParking  PropertyGFABuilding(s)  \\\n",
       "count      1.697000e+03         1697.000000            1.697000e+03   \n",
       "mean       1.183821e+05        13429.637596            1.049525e+05   \n",
       "std        2.952745e+05        42950.127462            2.807659e+05   \n",
       "min        1.128500e+04           -1.000000           -8.451000e+03   \n",
       "25%        2.939200e+04            0.000000            2.832000e+04   \n",
       "50%        4.925200e+04            0.000000            4.736800e+04   \n",
       "75%        1.067720e+05            0.000000            9.494800e+04   \n",
       "max        9.320156e+06       512608.000000            9.320156e+06   \n",
       "\n",
       "       LargestPropertyUseTypeGFA  ENERGYSTARScore  SiteEUIWN(kBtu/sf)  \\\n",
       "count               1.685000e+03      1154.000000         1697.000000   \n",
       "mean                9.886330e+04        64.951906           75.219210   \n",
       "std                 2.758224e+05        28.041709           74.930650   \n",
       "min                 6.455000e+03         1.000000            0.000000   \n",
       "25%                 2.548000e+04        46.500000           35.600000   \n",
       "50%                 4.347300e+04        72.500000           54.700001   \n",
       "75%                 9.193500e+04        88.000000           86.400002   \n",
       "max                 9.320156e+06       100.000000          834.400024   \n",
       "\n",
       "       SourceEUIWN(kBtu/sf)  SiteEnergyUseWN(kBtu)  SteamUse(kBtu)  \\\n",
       "count           1697.000000           1.697000e+03    1.697000e+03   \n",
       "mean             179.240719           8.121502e+06    5.133132e+05   \n",
       "std              183.519181           2.204160e+07    5.351773e+06   \n",
       "min               -2.050000           0.000000e+00    0.000000e+00   \n",
       "25%               80.699999           1.334535e+06    0.000000e+00   \n",
       "50%              135.100003           2.715609e+06    0.000000e+00   \n",
       "75%              208.650002           7.302520e+06    0.000000e+00   \n",
       "max             2620.000000           4.716139e+08    1.314066e+08   \n",
       "\n",
       "       Electricity(kBtu)  NaturalGas(kBtu)  TotalGHGEmissions  \\\n",
       "count       1.697000e+03      1.697000e+03        1697.000000   \n",
       "mean        5.865634e+06      1.971806e+06         185.235053   \n",
       "std         2.069226e+07      9.400898e+06         745.538021   \n",
       "min         7.000000e+00      0.000000e+00           0.120000   \n",
       "25%         7.328030e+05      0.000000e+00          20.150000   \n",
       "50%         1.649172e+06      4.974050e+05          50.215000   \n",
       "75%         4.871044e+06      1.507822e+06         139.630000   \n",
       "max         6.570744e+08      2.979090e+08       16870.980000   \n",
       "\n",
       "       GHGEmissionsIntensity       ZipCode  \n",
       "count            1697.000000   1564.000000  \n",
       "mean                1.501859  96643.709079  \n",
       "std                 2.266608  10720.867756  \n",
       "min                 0.000000  17919.000000  \n",
       "25%                 0.275000  98104.000000  \n",
       "50%                 0.785000  98109.000000  \n",
       "75%                 1.765000  98122.000000  \n",
       "max                34.090000  98199.000000  "
      ]
     },
     "execution_count": 143,
     "metadata": {},
     "output_type": "execute_result"
    }
   ],
   "source": [
    "data.describe()"
   ]
  },
  {
   "cell_type": "code",
   "execution_count": 144,
   "metadata": {},
   "outputs": [],
   "source": [
    "data.drop('ZipCode', axis=1, inplace = True)"
   ]
  },
  {
   "cell_type": "code",
   "execution_count": 145,
   "metadata": {},
   "outputs": [],
   "source": [
    "#supprimer des variables qui puisse etre  une source de fuite de données\n",
    "data = data.drop(['SteamUse(kBtu)','Electricity(kBtu)','SiteEUIWN(kBtu/sf)',\n",
    "                         'SourceEUIWN(kBtu/sf)','GHGEmissionsIntensity','NaturalGas(kBtu)'], axis=1)"
   ]
  },
  {
   "cell_type": "code",
   "execution_count": 146,
   "metadata": {},
   "outputs": [],
   "source": [
    "#identifier les valeurs numeriques et categoriques pour l'imputation des valeurs manquantes\n",
    "num_data = data.select_dtypes(include=['int64','float64'])\n",
    "cat_data = data.select_dtypes('object') "
   ]
  },
  {
   "cell_type": "code",
   "execution_count": 147,
   "metadata": {},
   "outputs": [
    {
     "data": {
      "text/html": [
       "<div>\n",
       "<style scoped>\n",
       "    .dataframe tbody tr th:only-of-type {\n",
       "        vertical-align: middle;\n",
       "    }\n",
       "\n",
       "    .dataframe tbody tr th {\n",
       "        vertical-align: top;\n",
       "    }\n",
       "\n",
       "    .dataframe thead th {\n",
       "        text-align: right;\n",
       "    }\n",
       "</style>\n",
       "<table border=\"1\" class=\"dataframe\">\n",
       "  <thead>\n",
       "    <tr style=\"text-align: right;\">\n",
       "      <th></th>\n",
       "      <th>BuildingType</th>\n",
       "      <th>PrimaryPropertyType</th>\n",
       "      <th>Neighborhood</th>\n",
       "    </tr>\n",
       "  </thead>\n",
       "  <tbody>\n",
       "    <tr>\n",
       "      <th>0</th>\n",
       "      <td>NonResidential</td>\n",
       "      <td>Retail Store</td>\n",
       "      <td>DOWNTOWN</td>\n",
       "    </tr>\n",
       "    <tr>\n",
       "      <th>1</th>\n",
       "      <td>NonResidential</td>\n",
       "      <td>Small- and Mid-Sized Office</td>\n",
       "      <td>DOWNTOWN</td>\n",
       "    </tr>\n",
       "    <tr>\n",
       "      <th>2</th>\n",
       "      <td>NonResidential</td>\n",
       "      <td>Large Office</td>\n",
       "      <td>LAKE UNION</td>\n",
       "    </tr>\n",
       "    <tr>\n",
       "      <th>3</th>\n",
       "      <td>NonResidential</td>\n",
       "      <td>Small- and Mid-Sized Office</td>\n",
       "      <td>GREATER DUWAMISH</td>\n",
       "    </tr>\n",
       "    <tr>\n",
       "      <th>4</th>\n",
       "      <td>NonResidential</td>\n",
       "      <td>Large Office</td>\n",
       "      <td>LAKE UNION</td>\n",
       "    </tr>\n",
       "    <tr>\n",
       "      <th>...</th>\n",
       "      <td>...</td>\n",
       "      <td>...</td>\n",
       "      <td>...</td>\n",
       "    </tr>\n",
       "    <tr>\n",
       "      <th>1692</th>\n",
       "      <td>NaN</td>\n",
       "      <td>NaN</td>\n",
       "      <td>NaN</td>\n",
       "    </tr>\n",
       "    <tr>\n",
       "      <th>1693</th>\n",
       "      <td>Nonresidential COS</td>\n",
       "      <td>Other</td>\n",
       "      <td>DOWNTOWN</td>\n",
       "    </tr>\n",
       "    <tr>\n",
       "      <th>1694</th>\n",
       "      <td>Nonresidential COS</td>\n",
       "      <td>Other</td>\n",
       "      <td>MAGNOLIA / QUEEN ANNE</td>\n",
       "    </tr>\n",
       "    <tr>\n",
       "      <th>1695</th>\n",
       "      <td>Nonresidential COS</td>\n",
       "      <td>Mixed Use Property</td>\n",
       "      <td>GREATER DUWAMISH</td>\n",
       "    </tr>\n",
       "    <tr>\n",
       "      <th>1696</th>\n",
       "      <td>Nonresidential COS</td>\n",
       "      <td>Mixed Use Property</td>\n",
       "      <td>GREATER DUWAMISH</td>\n",
       "    </tr>\n",
       "  </tbody>\n",
       "</table>\n",
       "<p>1697 rows × 3 columns</p>\n",
       "</div>"
      ],
      "text/plain": [
       "            BuildingType          PrimaryPropertyType           Neighborhood\n",
       "0         NonResidential                 Retail Store               DOWNTOWN\n",
       "1         NonResidential  Small- and Mid-Sized Office               DOWNTOWN\n",
       "2         NonResidential                 Large Office             LAKE UNION\n",
       "3         NonResidential  Small- and Mid-Sized Office       GREATER DUWAMISH\n",
       "4         NonResidential                 Large Office             LAKE UNION\n",
       "...                  ...                          ...                    ...\n",
       "1692                 NaN                          NaN                    NaN\n",
       "1693  Nonresidential COS                        Other               DOWNTOWN\n",
       "1694  Nonresidential COS                        Other  MAGNOLIA / QUEEN ANNE\n",
       "1695  Nonresidential COS           Mixed Use Property       GREATER DUWAMISH\n",
       "1696  Nonresidential COS           Mixed Use Property       GREATER DUWAMISH\n",
       "\n",
       "[1697 rows x 3 columns]"
      ]
     },
     "execution_count": 147,
     "metadata": {},
     "output_type": "execute_result"
    }
   ],
   "source": [
    "cat_data"
   ]
  },
  {
   "cell_type": "code",
   "execution_count": 148,
   "metadata": {},
   "outputs": [
    {
     "data": {
      "text/plain": [
       "True"
      ]
     },
     "execution_count": 148,
     "metadata": {},
     "output_type": "execute_result"
    }
   ],
   "source": [
    "cat_data.isnull().sum().any()"
   ]
  },
  {
   "cell_type": "code",
   "execution_count": 149,
   "metadata": {},
   "outputs": [
    {
     "data": {
      "text/plain": [
       "360"
      ]
     },
     "execution_count": 149,
     "metadata": {},
     "output_type": "execute_result"
    }
   ],
   "source": [
    "cat_data.isnull().sum().sum()"
   ]
  },
  {
   "cell_type": "code",
   "execution_count": 150,
   "metadata": {},
   "outputs": [],
   "source": [
    "#pour les variables categoriques, je vais remplacer les valeurs manquantes par les valeurs qui se repetent le plus\n",
    "cat_data=cat_data.apply(lambda x:x.fillna(x.value_counts().index[0]))"
   ]
  },
  {
   "cell_type": "code",
   "execution_count": 151,
   "metadata": {},
   "outputs": [
    {
     "data": {
      "text/plain": [
       "False"
      ]
     },
     "execution_count": 151,
     "metadata": {},
     "output_type": "execute_result"
    }
   ],
   "source": [
    "cat_data.isnull().sum().any()"
   ]
  },
  {
   "cell_type": "code",
   "execution_count": 152,
   "metadata": {},
   "outputs": [
    {
     "data": {
      "text/plain": [
       "BuildingType            5\n",
       "PrimaryPropertyType    22\n",
       "Neighborhood           14\n",
       "dtype: int64"
      ]
     },
     "execution_count": 152,
     "metadata": {},
     "output_type": "execute_result"
    }
   ],
   "source": [
    "cat_data.nunique()"
   ]
  },
  {
   "cell_type": "code",
   "execution_count": 153,
   "metadata": {},
   "outputs": [
    {
     "data": {
      "text/plain": [
       "['DataYear',\n",
       " 'YearBuilt',\n",
       " 'NumberofBuildings',\n",
       " 'NumberofFloors',\n",
       " 'PropertyGFATotal',\n",
       " 'PropertyGFAParking',\n",
       " 'PropertyGFABuilding(s)',\n",
       " 'LargestPropertyUseTypeGFA',\n",
       " 'ENERGYSTARScore',\n",
       " 'SiteEnergyUseWN(kBtu)',\n",
       " 'TotalGHGEmissions']"
      ]
     },
     "execution_count": 153,
     "metadata": {},
     "output_type": "execute_result"
    }
   ],
   "source": [
    "list(num_data.columns)"
   ]
  },
  {
   "cell_type": "code",
   "execution_count": 154,
   "metadata": {},
   "outputs": [
    {
     "data": {
      "text/plain": [
       "True"
      ]
     },
     "execution_count": 154,
     "metadata": {},
     "output_type": "execute_result"
    }
   ],
   "source": [
    "num_data.isnull().sum().any()"
   ]
  },
  {
   "cell_type": "code",
   "execution_count": 155,
   "metadata": {},
   "outputs": [
    {
     "data": {
      "text/plain": [
       "555"
      ]
     },
     "execution_count": 155,
     "metadata": {},
     "output_type": "execute_result"
    }
   ],
   "source": [
    "num_data.isnull().sum().sum()"
   ]
  },
  {
   "cell_type": "code",
   "execution_count": 156,
   "metadata": {},
   "outputs": [],
   "source": [
    "#pour les variables numeriques, je vais remplacer les valeurs manquantes par la median\n",
    "num_data=num_data.fillna(num_data.median())"
   ]
  },
  {
   "cell_type": "raw",
   "metadata": {},
   "source": [
    "La date de relevé ne nous sera pas utile ici, nous la supprimerons du jeu de données. ENERGYSTARScore est insuffisament complété. Nous allons l'écarter du dataset mais nous la conservons pour vérifier ensuite si cette variable a un impact sur la qualité de prédiction."
   ]
  },
  {
   "cell_type": "code",
   "execution_count": 157,
   "metadata": {},
   "outputs": [],
   "source": [
    "Energystar_Score = num_data['ENERGYSTARScore']\n",
    "num_data = num_data.drop(['ENERGYSTARScore','DataYear'], axis=1)"
   ]
  },
  {
   "cell_type": "code",
   "execution_count": 158,
   "metadata": {},
   "outputs": [],
   "source": [
    "data = pd.concat([cat_data, num_data], axis=1)"
   ]
  },
  {
   "cell_type": "code",
   "execution_count": 159,
   "metadata": {},
   "outputs": [
    {
     "data": {
      "text/html": [
       "<div>\n",
       "<style scoped>\n",
       "    .dataframe tbody tr th:only-of-type {\n",
       "        vertical-align: middle;\n",
       "    }\n",
       "\n",
       "    .dataframe tbody tr th {\n",
       "        vertical-align: top;\n",
       "    }\n",
       "\n",
       "    .dataframe thead th {\n",
       "        text-align: right;\n",
       "    }\n",
       "</style>\n",
       "<table border=\"1\" class=\"dataframe\">\n",
       "  <thead>\n",
       "    <tr style=\"text-align: right;\">\n",
       "      <th></th>\n",
       "      <th>BuildingType</th>\n",
       "      <th>PrimaryPropertyType</th>\n",
       "      <th>Neighborhood</th>\n",
       "      <th>YearBuilt</th>\n",
       "      <th>NumberofBuildings</th>\n",
       "      <th>NumberofFloors</th>\n",
       "      <th>PropertyGFATotal</th>\n",
       "      <th>PropertyGFAParking</th>\n",
       "      <th>PropertyGFABuilding(s)</th>\n",
       "      <th>LargestPropertyUseTypeGFA</th>\n",
       "      <th>SiteEnergyUseWN(kBtu)</th>\n",
       "      <th>TotalGHGEmissions</th>\n",
       "    </tr>\n",
       "  </thead>\n",
       "  <tbody>\n",
       "    <tr>\n",
       "      <th>0</th>\n",
       "      <td>NonResidential</td>\n",
       "      <td>Retail Store</td>\n",
       "      <td>DOWNTOWN</td>\n",
       "      <td>1989.0</td>\n",
       "      <td>1.0</td>\n",
       "      <td>4.0</td>\n",
       "      <td>111077.0</td>\n",
       "      <td>0.0</td>\n",
       "      <td>111077.0</td>\n",
       "      <td>43473.0</td>\n",
       "      <td>10155788.0</td>\n",
       "      <td>69.01</td>\n",
       "    </tr>\n",
       "    <tr>\n",
       "      <th>1</th>\n",
       "      <td>NonResidential</td>\n",
       "      <td>Small- and Mid-Sized Office</td>\n",
       "      <td>DOWNTOWN</td>\n",
       "      <td>1906.0</td>\n",
       "      <td>1.0</td>\n",
       "      <td>6.0</td>\n",
       "      <td>98370.0</td>\n",
       "      <td>25920.0</td>\n",
       "      <td>72450.0</td>\n",
       "      <td>98370.0</td>\n",
       "      <td>6541579.0</td>\n",
       "      <td>47.24</td>\n",
       "    </tr>\n",
       "    <tr>\n",
       "      <th>2</th>\n",
       "      <td>NonResidential</td>\n",
       "      <td>Large Office</td>\n",
       "      <td>LAKE UNION</td>\n",
       "      <td>1947.0</td>\n",
       "      <td>1.0</td>\n",
       "      <td>4.0</td>\n",
       "      <td>193788.0</td>\n",
       "      <td>37854.0</td>\n",
       "      <td>155934.0</td>\n",
       "      <td>138672.0</td>\n",
       "      <td>16463978.0</td>\n",
       "      <td>116.84</td>\n",
       "    </tr>\n",
       "    <tr>\n",
       "      <th>3</th>\n",
       "      <td>NonResidential</td>\n",
       "      <td>Small- and Mid-Sized Office</td>\n",
       "      <td>GREATER DUWAMISH</td>\n",
       "      <td>2008.0</td>\n",
       "      <td>1.0</td>\n",
       "      <td>3.0</td>\n",
       "      <td>76598.0</td>\n",
       "      <td>21410.0</td>\n",
       "      <td>55188.0</td>\n",
       "      <td>55188.0</td>\n",
       "      <td>4617864.0</td>\n",
       "      <td>134.69</td>\n",
       "    </tr>\n",
       "    <tr>\n",
       "      <th>4</th>\n",
       "      <td>NonResidential</td>\n",
       "      <td>Large Office</td>\n",
       "      <td>LAKE UNION</td>\n",
       "      <td>1981.0</td>\n",
       "      <td>1.0</td>\n",
       "      <td>4.0</td>\n",
       "      <td>186971.0</td>\n",
       "      <td>0.0</td>\n",
       "      <td>186971.0</td>\n",
       "      <td>186977.0</td>\n",
       "      <td>13575377.0</td>\n",
       "      <td>226.92</td>\n",
       "    </tr>\n",
       "  </tbody>\n",
       "</table>\n",
       "</div>"
      ],
      "text/plain": [
       "     BuildingType          PrimaryPropertyType      Neighborhood  YearBuilt  \\\n",
       "0  NonResidential                 Retail Store          DOWNTOWN     1989.0   \n",
       "1  NonResidential  Small- and Mid-Sized Office          DOWNTOWN     1906.0   \n",
       "2  NonResidential                 Large Office        LAKE UNION     1947.0   \n",
       "3  NonResidential  Small- and Mid-Sized Office  GREATER DUWAMISH     2008.0   \n",
       "4  NonResidential                 Large Office        LAKE UNION     1981.0   \n",
       "\n",
       "   NumberofBuildings  NumberofFloors  PropertyGFATotal  PropertyGFAParking  \\\n",
       "0                1.0             4.0          111077.0                 0.0   \n",
       "1                1.0             6.0           98370.0             25920.0   \n",
       "2                1.0             4.0          193788.0             37854.0   \n",
       "3                1.0             3.0           76598.0             21410.0   \n",
       "4                1.0             4.0          186971.0                 0.0   \n",
       "\n",
       "   PropertyGFABuilding(s)  LargestPropertyUseTypeGFA  SiteEnergyUseWN(kBtu)  \\\n",
       "0                111077.0                    43473.0             10155788.0   \n",
       "1                 72450.0                    98370.0              6541579.0   \n",
       "2                155934.0                   138672.0             16463978.0   \n",
       "3                 55188.0                    55188.0              4617864.0   \n",
       "4                186971.0                   186977.0             13575377.0   \n",
       "\n",
       "   TotalGHGEmissions  \n",
       "0              69.01  \n",
       "1              47.24  \n",
       "2             116.84  \n",
       "3             134.69  \n",
       "4             226.92  "
      ]
     },
     "execution_count": 159,
     "metadata": {},
     "output_type": "execute_result"
    }
   ],
   "source": [
    "data.head()"
   ]
  },
  {
   "cell_type": "code",
   "execution_count": 160,
   "metadata": {},
   "outputs": [
    {
     "data": {
      "text/plain": [
       "False"
      ]
     },
     "execution_count": 160,
     "metadata": {},
     "output_type": "execute_result"
    }
   ],
   "source": [
    "data.isnull().sum().any()"
   ]
  },
  {
   "cell_type": "code",
   "execution_count": 161,
   "metadata": {},
   "outputs": [
    {
     "data": {
      "text/html": [
       "<div>\n",
       "<style scoped>\n",
       "    .dataframe tbody tr th:only-of-type {\n",
       "        vertical-align: middle;\n",
       "    }\n",
       "\n",
       "    .dataframe tbody tr th {\n",
       "        vertical-align: top;\n",
       "    }\n",
       "\n",
       "    .dataframe thead th {\n",
       "        text-align: right;\n",
       "    }\n",
       "</style>\n",
       "<table border=\"1\" class=\"dataframe\">\n",
       "  <thead>\n",
       "    <tr style=\"text-align: right;\">\n",
       "      <th></th>\n",
       "      <th>BuildingType</th>\n",
       "      <th>PrimaryPropertyType</th>\n",
       "      <th>Neighborhood</th>\n",
       "      <th>YearBuilt</th>\n",
       "      <th>NumberofBuildings</th>\n",
       "      <th>NumberofFloors</th>\n",
       "      <th>PropertyGFATotal</th>\n",
       "      <th>PropertyGFAParking</th>\n",
       "      <th>PropertyGFABuilding(s)</th>\n",
       "      <th>LargestPropertyUseTypeGFA</th>\n",
       "      <th>SiteEnergyUseWN(kBtu)</th>\n",
       "      <th>TotalGHGEmissions</th>\n",
       "    </tr>\n",
       "  </thead>\n",
       "  <tbody>\n",
       "    <tr>\n",
       "      <th>0</th>\n",
       "      <td>NonResidential</td>\n",
       "      <td>Retail Store</td>\n",
       "      <td>DOWNTOWN</td>\n",
       "      <td>1989.0</td>\n",
       "      <td>1.0</td>\n",
       "      <td>4.0</td>\n",
       "      <td>111077.0</td>\n",
       "      <td>0.0</td>\n",
       "      <td>111077.0</td>\n",
       "      <td>43473.0</td>\n",
       "      <td>1.015579e+07</td>\n",
       "      <td>69.01</td>\n",
       "    </tr>\n",
       "    <tr>\n",
       "      <th>1</th>\n",
       "      <td>NonResidential</td>\n",
       "      <td>Small- and Mid-Sized Office</td>\n",
       "      <td>DOWNTOWN</td>\n",
       "      <td>1906.0</td>\n",
       "      <td>1.0</td>\n",
       "      <td>6.0</td>\n",
       "      <td>98370.0</td>\n",
       "      <td>25920.0</td>\n",
       "      <td>72450.0</td>\n",
       "      <td>98370.0</td>\n",
       "      <td>6.541579e+06</td>\n",
       "      <td>47.24</td>\n",
       "    </tr>\n",
       "    <tr>\n",
       "      <th>2</th>\n",
       "      <td>NonResidential</td>\n",
       "      <td>Large Office</td>\n",
       "      <td>LAKE UNION</td>\n",
       "      <td>1947.0</td>\n",
       "      <td>1.0</td>\n",
       "      <td>4.0</td>\n",
       "      <td>193788.0</td>\n",
       "      <td>37854.0</td>\n",
       "      <td>155934.0</td>\n",
       "      <td>138672.0</td>\n",
       "      <td>1.646398e+07</td>\n",
       "      <td>116.84</td>\n",
       "    </tr>\n",
       "    <tr>\n",
       "      <th>3</th>\n",
       "      <td>NonResidential</td>\n",
       "      <td>Small- and Mid-Sized Office</td>\n",
       "      <td>GREATER DUWAMISH</td>\n",
       "      <td>2008.0</td>\n",
       "      <td>1.0</td>\n",
       "      <td>3.0</td>\n",
       "      <td>76598.0</td>\n",
       "      <td>21410.0</td>\n",
       "      <td>55188.0</td>\n",
       "      <td>55188.0</td>\n",
       "      <td>4.617864e+06</td>\n",
       "      <td>134.69</td>\n",
       "    </tr>\n",
       "    <tr>\n",
       "      <th>4</th>\n",
       "      <td>NonResidential</td>\n",
       "      <td>Large Office</td>\n",
       "      <td>LAKE UNION</td>\n",
       "      <td>1981.0</td>\n",
       "      <td>1.0</td>\n",
       "      <td>4.0</td>\n",
       "      <td>186971.0</td>\n",
       "      <td>0.0</td>\n",
       "      <td>186971.0</td>\n",
       "      <td>186977.0</td>\n",
       "      <td>1.357538e+07</td>\n",
       "      <td>226.92</td>\n",
       "    </tr>\n",
       "    <tr>\n",
       "      <th>...</th>\n",
       "      <td>...</td>\n",
       "      <td>...</td>\n",
       "      <td>...</td>\n",
       "      <td>...</td>\n",
       "      <td>...</td>\n",
       "      <td>...</td>\n",
       "      <td>...</td>\n",
       "      <td>...</td>\n",
       "      <td>...</td>\n",
       "      <td>...</td>\n",
       "      <td>...</td>\n",
       "      <td>...</td>\n",
       "    </tr>\n",
       "    <tr>\n",
       "      <th>1692</th>\n",
       "      <td>NonResidential</td>\n",
       "      <td>Small- and Mid-Sized Office</td>\n",
       "      <td>DOWNTOWN</td>\n",
       "      <td>1990.0</td>\n",
       "      <td>1.0</td>\n",
       "      <td>1.0</td>\n",
       "      <td>12294.0</td>\n",
       "      <td>0.0</td>\n",
       "      <td>12294.0</td>\n",
       "      <td>12294.0</td>\n",
       "      <td>9.430032e+05</td>\n",
       "      <td>20.94</td>\n",
       "    </tr>\n",
       "    <tr>\n",
       "      <th>1693</th>\n",
       "      <td>Nonresidential COS</td>\n",
       "      <td>Other</td>\n",
       "      <td>DOWNTOWN</td>\n",
       "      <td>2004.0</td>\n",
       "      <td>1.0</td>\n",
       "      <td>1.0</td>\n",
       "      <td>16000.0</td>\n",
       "      <td>0.0</td>\n",
       "      <td>16000.0</td>\n",
       "      <td>16000.0</td>\n",
       "      <td>1.053706e+06</td>\n",
       "      <td>32.17</td>\n",
       "    </tr>\n",
       "    <tr>\n",
       "      <th>1694</th>\n",
       "      <td>Nonresidential COS</td>\n",
       "      <td>Other</td>\n",
       "      <td>MAGNOLIA / QUEEN ANNE</td>\n",
       "      <td>1974.0</td>\n",
       "      <td>1.0</td>\n",
       "      <td>1.0</td>\n",
       "      <td>13157.0</td>\n",
       "      <td>0.0</td>\n",
       "      <td>13157.0</td>\n",
       "      <td>7583.0</td>\n",
       "      <td>6.053764e+06</td>\n",
       "      <td>223.54</td>\n",
       "    </tr>\n",
       "    <tr>\n",
       "      <th>1695</th>\n",
       "      <td>Nonresidential COS</td>\n",
       "      <td>Mixed Use Property</td>\n",
       "      <td>GREATER DUWAMISH</td>\n",
       "      <td>1989.0</td>\n",
       "      <td>1.0</td>\n",
       "      <td>1.0</td>\n",
       "      <td>14101.0</td>\n",
       "      <td>0.0</td>\n",
       "      <td>14101.0</td>\n",
       "      <td>6601.0</td>\n",
       "      <td>7.828413e+05</td>\n",
       "      <td>22.11</td>\n",
       "    </tr>\n",
       "    <tr>\n",
       "      <th>1696</th>\n",
       "      <td>Nonresidential COS</td>\n",
       "      <td>Mixed Use Property</td>\n",
       "      <td>GREATER DUWAMISH</td>\n",
       "      <td>1938.0</td>\n",
       "      <td>1.0</td>\n",
       "      <td>1.0</td>\n",
       "      <td>18258.0</td>\n",
       "      <td>0.0</td>\n",
       "      <td>18258.0</td>\n",
       "      <td>8271.0</td>\n",
       "      <td>1.293722e+06</td>\n",
       "      <td>41.27</td>\n",
       "    </tr>\n",
       "  </tbody>\n",
       "</table>\n",
       "<p>1697 rows × 12 columns</p>\n",
       "</div>"
      ],
      "text/plain": [
       "            BuildingType          PrimaryPropertyType           Neighborhood  \\\n",
       "0         NonResidential                 Retail Store               DOWNTOWN   \n",
       "1         NonResidential  Small- and Mid-Sized Office               DOWNTOWN   \n",
       "2         NonResidential                 Large Office             LAKE UNION   \n",
       "3         NonResidential  Small- and Mid-Sized Office       GREATER DUWAMISH   \n",
       "4         NonResidential                 Large Office             LAKE UNION   \n",
       "...                  ...                          ...                    ...   \n",
       "1692      NonResidential  Small- and Mid-Sized Office               DOWNTOWN   \n",
       "1693  Nonresidential COS                        Other               DOWNTOWN   \n",
       "1694  Nonresidential COS                        Other  MAGNOLIA / QUEEN ANNE   \n",
       "1695  Nonresidential COS           Mixed Use Property       GREATER DUWAMISH   \n",
       "1696  Nonresidential COS           Mixed Use Property       GREATER DUWAMISH   \n",
       "\n",
       "      YearBuilt  NumberofBuildings  NumberofFloors  PropertyGFATotal  \\\n",
       "0        1989.0                1.0             4.0          111077.0   \n",
       "1        1906.0                1.0             6.0           98370.0   \n",
       "2        1947.0                1.0             4.0          193788.0   \n",
       "3        2008.0                1.0             3.0           76598.0   \n",
       "4        1981.0                1.0             4.0          186971.0   \n",
       "...         ...                ...             ...               ...   \n",
       "1692     1990.0                1.0             1.0           12294.0   \n",
       "1693     2004.0                1.0             1.0           16000.0   \n",
       "1694     1974.0                1.0             1.0           13157.0   \n",
       "1695     1989.0                1.0             1.0           14101.0   \n",
       "1696     1938.0                1.0             1.0           18258.0   \n",
       "\n",
       "      PropertyGFAParking  PropertyGFABuilding(s)  LargestPropertyUseTypeGFA  \\\n",
       "0                    0.0                111077.0                    43473.0   \n",
       "1                25920.0                 72450.0                    98370.0   \n",
       "2                37854.0                155934.0                   138672.0   \n",
       "3                21410.0                 55188.0                    55188.0   \n",
       "4                    0.0                186971.0                   186977.0   \n",
       "...                  ...                     ...                        ...   \n",
       "1692                 0.0                 12294.0                    12294.0   \n",
       "1693                 0.0                 16000.0                    16000.0   \n",
       "1694                 0.0                 13157.0                     7583.0   \n",
       "1695                 0.0                 14101.0                     6601.0   \n",
       "1696                 0.0                 18258.0                     8271.0   \n",
       "\n",
       "      SiteEnergyUseWN(kBtu)  TotalGHGEmissions  \n",
       "0              1.015579e+07              69.01  \n",
       "1              6.541579e+06              47.24  \n",
       "2              1.646398e+07             116.84  \n",
       "3              4.617864e+06             134.69  \n",
       "4              1.357538e+07             226.92  \n",
       "...                     ...                ...  \n",
       "1692           9.430032e+05              20.94  \n",
       "1693           1.053706e+06              32.17  \n",
       "1694           6.053764e+06             223.54  \n",
       "1695           7.828413e+05              22.11  \n",
       "1696           1.293722e+06              41.27  \n",
       "\n",
       "[1697 rows x 12 columns]"
      ]
     },
     "execution_count": 161,
     "metadata": {},
     "output_type": "execute_result"
    }
   ],
   "source": [
    "data"
   ]
  },
  {
   "cell_type": "code",
   "execution_count": 162,
   "metadata": {},
   "outputs": [
    {
     "data": {
      "text/plain": [
       "BuildingType                  object\n",
       "PrimaryPropertyType           object\n",
       "Neighborhood                  object\n",
       "YearBuilt                    float64\n",
       "NumberofBuildings            float64\n",
       "NumberofFloors               float64\n",
       "PropertyGFATotal             float64\n",
       "PropertyGFAParking           float64\n",
       "PropertyGFABuilding(s)       float64\n",
       "LargestPropertyUseTypeGFA    float64\n",
       "SiteEnergyUseWN(kBtu)        float64\n",
       "TotalGHGEmissions            float64\n",
       "dtype: object"
      ]
     },
     "execution_count": 162,
     "metadata": {},
     "output_type": "execute_result"
    }
   ],
   "source": [
    "data.dtypes"
   ]
  },
  {
   "cell_type": "markdown",
   "metadata": {},
   "source": [
    "## preparation du Processeur"
   ]
  },
  {
   "cell_type": "code",
   "execution_count": 163,
   "metadata": {},
   "outputs": [],
   "source": [
    "from sklearn.preprocessing import StandardScaler\n",
    "from category_encoders.target_encoder import TargetEncoder\n",
    "from sklearn.compose import ColumnTransformer\n",
    "\n",
    "target_features = ['BuildingType','PrimaryPropertyType','Neighborhood']\n",
    "target_transformer =TargetEncoder()\n",
    "\n",
    "numeric_features = ['YearBuilt','NumberofBuildings','NumberofFloors',\n",
    "                    'PropertyGFATotal', 'PropertyGFAParking', \n",
    "                     'PropertyGFABuilding(s)', 'LargestPropertyUseTypeGFA']\n",
    "\n",
    "numeric_transformer = RobustScaler(unit_variance=True)\n",
    "\n",
    "preprocessor = ColumnTransformer(transformers=[\n",
    "    ('target', target_transformer, target_features),\n",
    "    ('numeric', numeric_transformer, numeric_features)\n",
    "])"
   ]
  },
  {
   "cell_type": "code",
   "execution_count": 164,
   "metadata": {},
   "outputs": [],
   "source": [
    "import warnings\n",
    "def get_feature_names(column_transformer):\n",
    "    \"\"\"Get feature names from all transformers.\n",
    "    Returns\n",
    "    -------\n",
    "    feature_names : list of strings\n",
    "        Names of the features produced by transform.\n",
    "        \n",
    "    ------\n",
    "    Code from :\n",
    "        https://johaupt.github.io/\n",
    "    \"\"\"\n",
    "    # Remove the internal helper function\n",
    "    #check_is_fitted(column_transformer)\n",
    "    \n",
    "    # Turn loopkup into function for better handling with pipeline later\n",
    "    def get_names(trans):\n",
    "        # >> Original get_feature_names() method\n",
    "        if trans == 'drop' or (\n",
    "                hasattr(column, '__len__') and not len(column)):\n",
    "            return []\n",
    "        if trans == 'passthrough':\n",
    "            if hasattr(column_transformer, '_df_columns'):\n",
    "                if ((not isinstance(column, slice))\n",
    "                        and all(isinstance(col, str) for col in column)):\n",
    "                    return column\n",
    "                else:\n",
    "                    return column_transformer._df_columns[column]\n",
    "            else:\n",
    "                indices = np.arange(column_transformer._n_features)\n",
    "                return ['x%d' % i for i in indices[column]]\n",
    "        if not hasattr(trans, 'get_feature_names'):\n",
    "        # >>> Change: Return input column names if no method avaiable\n",
    "            # Turn error into a warning\n",
    "            warnings.warn(\"Transformer %s (type %s) does not \"\n",
    "                                 \"provide get_feature_names. \"\n",
    "                                 \"Will return input column names if available\"\n",
    "                                 % (str(name), type(trans).__name__))\n",
    "            # For transformers without a get_features_names method, use the input\n",
    "            # names to the column transformer\n",
    "            if column is None:\n",
    "                return []\n",
    "            else:\n",
    "                return [f for f in column]\n",
    "\n",
    "        return [f for f in trans.get_feature_names()]\n",
    "    \n",
    "    ### Start of processing\n",
    "    feature_names = []\n",
    "    \n",
    "    l_transformers = list(column_transformer._iter(fitted=True))\n",
    "    \n",
    "    \n",
    "    for name, trans, column, _ in l_transformers: \n",
    "        feature_names.extend(get_names(trans))\n",
    "    \n",
    "    return feature_names"
   ]
  },
  {
   "cell_type": "markdown",
   "metadata": {},
   "source": [
    "## Jeu d'entrainement et jeu de test"
   ]
  },
  {
   "cell_type": "raw",
   "metadata": {},
   "source": [
    "séparons nos données en un jeu d’entraînement et un jeu de test. Le jeu de test contiendra 20% des données."
   ]
  },
  {
   "cell_type": "code",
   "execution_count": 165,
   "metadata": {},
   "outputs": [
    {
     "name": "stdout",
     "output_type": "stream",
     "text": [
      "Entrainement: 1357 lignes,\n",
      "Test: 340 lignes.\n",
      "\n"
     ]
    }
   ],
   "source": [
    "from sklearn.model_selection import train_test_split\n",
    "epsilon = 1e-5  \n",
    "X = data.drop(['TotalGHGEmissions','SiteEnergyUseWN(kBtu)'], axis=1)\n",
    "y1 = data[['TotalGHGEmissions']]\n",
    "y2 = data[['SiteEnergyUseWN(kBtu)']]\n",
    "y1=y1+epsilon\n",
    "y2 = y2+epsilon \n",
    "X_train, X_test, y1_train, y1_test = train_test_split(X, y1, test_size=0.2)\n",
    "X_train, X_test, y2_train, y2_test = train_test_split(X, y2, test_size=0.2)\n",
    "\n",
    "print(\"Entrainement: {} lignes,\\nTest: {} lignes.\\n\".format(X_train.shape[0],\n",
    "                                                            X_test.shape[0]))"
   ]
  },
  {
   "cell_type": "markdown",
   "metadata": {},
   "source": [
    "## Distribution des émissions de co2 à l'échelle logarithmique"
   ]
  },
  {
   "cell_type": "code",
   "execution_count": 166,
   "metadata": {},
   "outputs": [
    {
     "data": {
      "image/png": "[encoded data removed]",
      "text/plain": [
       "<Figure size 1440x576 with 2 Axes>"
      ]
     },
     "metadata": {
      "needs_background": "light"
     },
     "output_type": "display_data"
    }
   ],
   "source": [
    "from sklearn.preprocessing import FunctionTransformer\n",
    "\n",
    "logtransformer = FunctionTransformer(np.log, inverse_func = np.exp, check_inverse = True)\n",
    "y1_log = logtransformer.transform(y1)\n",
    "\n",
    "fig, axes = plt.subplots(nrows=1, ncols=2, sharex=False, sharey=False, figsize=(20,8))\n",
    "sns.histplot(data=y1, x='TotalGHGEmissions', stat=\"density\", ax=axes[0])\n",
    "axes[0].set_title(\"Données initiales\")\n",
    "sns.histplot(data=y1_log, x='TotalGHGEmissions', stat=\"density\", ax=axes[1])\n",
    "axes[1].set_title(\"Application du logarithme\")\n",
    "plt.suptitle(\"Distribution des emissions de CO2 avec changement d'échelle\", fontsize=22)\n",
    "plt.show()"
   ]
  },
  {
   "cell_type": "markdown",
   "metadata": {},
   "source": [
    "## Distribution de la consommation d'energie à l'échelle logarithmique"
   ]
  },
  {
   "cell_type": "code",
   "execution_count": 167,
   "metadata": {
    "scrolled": true
   },
   "outputs": [
    {
     "data": {
      "image/png": "[encoded data removed]",
      "text/plain": [
       "<Figure size 1440x576 with 2 Axes>"
      ]
     },
     "metadata": {
      "needs_background": "light"
     },
     "output_type": "display_data"
    }
   ],
   "source": [
    "from sklearn.preprocessing import FunctionTransformer\n",
    "#epsilon = 1e-5    \n",
    "logtransformer = FunctionTransformer(np.log, inverse_func = np.exp, check_inverse = True)\n",
    "y2_log = logtransformer.transform(y2)\n",
    "\n",
    "fig, axes = plt.subplots(nrows=1, ncols=2, sharex=False, sharey=False, figsize=(20,8))\n",
    "sns.histplot(data=y2, x='SiteEnergyUseWN(kBtu)', stat=\"density\", ax=axes[0])\n",
    "axes[0].set_title(\"Données initiales\")\n",
    "sns.histplot(data=y2_log, x='SiteEnergyUseWN(kBtu)', stat=\"density\", ax=axes[1])\n",
    "axes[1].set_title(\"Application du logarithme\")\n",
    "plt.suptitle(\"Distribution de la consommation d'energie avec changement d'échelle\", fontsize=22)\n",
    "plt.show()"
   ]
  },
  {
   "cell_type": "raw",
   "metadata": {},
   "source": [
    "les deux vriables à predire ont une distribution normale à l'échelle logarithmique"
   ]
  },
  {
   "cell_type": "raw",
   "metadata": {},
   "source": [
    "Nous allons donc appliquer cette transformation dans notre pipeline grâce à la fonction TransformedTargetRegressor de la librairie Sklearn.La fonction inverse (exp) sera donc passée dans les prédictions."
   ]
  },
  {
   "cell_type": "markdown",
   "metadata": {},
   "source": [
    "## Modelisation"
   ]
  },
  {
   "cell_type": "code",
   "execution_count": 168,
   "metadata": {},
   "outputs": [],
   "source": [
    "## Algorithme lineaire, non lineaire et methodes assemblistes"
   ]
  },
  {
   "cell_type": "markdown",
   "metadata": {},
   "source": [
    "# Modèle Baseline : Régression linéaire multivariée"
   ]
  },
  {
   "cell_type": "raw",
   "metadata": {},
   "source": [
    " Nous allons créer un modèle baseline pour évaluer les performances de nos futurs modèles.\n",
    " Nous utilisons une régression linéaire multivariée."
   ]
  },
  {
   "cell_type": "code",
   "execution_count": 169,
   "metadata": {},
   "outputs": [],
   "source": [
    "from sklearn.compose import TransformedTargetRegressor\n",
    "from sklearn.linear_model import LinearRegression\n",
    "from sklearn.pipeline import Pipeline\n",
    "from sklearn.model_selection import GridSearchCV\n",
    "from sklearn import set_config\n",
    "set_config(display='diagram')\n",
    "\n",
    "\n",
    "param_mlr = {\"regressor__fit_intercept\": [True, False],\n",
    "             \"regressor__normalize\": [True, False]}\n",
    "\n",
    "mlr_grid_cv = Pipeline([\n",
    "    ('preprocessor', preprocessor),\n",
    "    ('grid_search_mlr', GridSearchCV(\n",
    "                            TransformedTargetRegressor(\n",
    "                                regressor=LinearRegression(), \n",
    "                                func=np.log, \n",
    "                                inverse_func=np.exp),\n",
    "                            param_grid=param_mlr,\n",
    "                            cv=5,\n",
    "                            scoring=('r2','neg_mean_squared_error'),\n",
    "                            return_train_score = True,\n",
    "                            refit='neg_mean_squared_error',\n",
    "                            n_jobs = -1))])"
   ]
  },
  {
   "cell_type": "raw",
   "metadata": {},
   "source": [
    "Deux métriques sont utilisées :MSE (Mean squared Error) et R² (Coeficient de détermination)"
   ]
  },
  {
   "cell_type": "raw",
   "metadata": {},
   "source": [
    "rank_test_score indique le rang d’une combinaison de paramètres de recherche de grille basée sur le fichier .mean_test_score\n",
    "Si vous essayez N combinaisons de paramètres dans votre recherche de grille, atteint de 1 à N.rank_test_score\n",
    "La combinaison de paramètres qui donne le plus bas aura un de N et la combinaison de paramètres avec le plus élevé aura un de 1."
   ]
  },
  {
   "cell_type": "code",
   "execution_count": 170,
   "metadata": {},
   "outputs": [],
   "source": [
    "#Retour du meilleur scores RMSE \n",
    "#Stockage du dataframe de resultats du modèle\n",
    "def model_scores(pip,step):\n",
    "    df_results = pd.DataFrame.from_dict(pip.named_steps[step].cv_results_) \\\n",
    "                    .sort_values('rank_test_neg_mean_squared_error')\n",
    "    \n",
    "    best_nmse = pip.named_steps[step].best_score_\n",
    "    best_rmse =np.sqrt(abs(best_nmse))\n",
    "    best_r2 = np.mean(df_results[df_results.rank_test_r2 == 1]['mean_test_r2'])\n",
    "    best_params = pip.named_steps[step].best_params_\n",
    "    training_time = round((np.mean(df_results.mean_fit_time)*X_train.shape[0]),2)\n",
    "    print(\"Meilleur score RMSE : {}\\nMeilleur Score R2 : {}\\nMeilleurs paramètres : {}\\nTemps moyen d'entrainement : {}s\"\\\n",
    "         .format(round(best_rmse,3), round(best_r2,3), best_params, training_time))\n",
    "    return df_results"
   ]
  },
  {
   "cell_type": "raw",
   "metadata": {},
   "source": [
    "les scores de la GridSearch avec validation croisée pour la variable TotalGHGEmissions"
   ]
  },
  {
   "cell_type": "code",
   "execution_count": 171,
   "metadata": {},
   "outputs": [
    {
     "name": "stderr",
     "output_type": "stream",
     "text": [
      "C:\\Users\\Admin\\anaconda3\\lib\\site-packages\\category_encoders\\utils.py:21: FutureWarning: is_categorical is deprecated and will be removed in a future version.  Use is_categorical_dtype instead\n",
      "  elif pd.api.types.is_categorical(cols):\n"
     ]
    },
    {
     "name": "stdout",
     "output_type": "stream",
     "text": [
      "Meilleur score RMSE : 34294.411\n",
      "Meilleur Score R2 : -20162.066\n",
      "Meilleurs paramètres : {'regressor__fit_intercept': False, 'regressor__normalize': True}\n",
      "Temps moyen d'entrainement : 20.47s\n"
     ]
    }
   ],
   "source": [
    "#Entrainement sur les 2 variables à expliquer :\n",
    "GHG_mlr_model = mlr_grid_cv.fit(X_train, y1_train)\n",
    "GHG_mlr_results = model_scores(GHG_mlr_model, 'grid_search_mlr')"
   ]
  },
  {
   "cell_type": "raw",
   "metadata": {},
   "source": [
    "les scores pour la variable SiteEnergyUseWN(kBtu)"
   ]
  },
  {
   "cell_type": "code",
   "execution_count": 172,
   "metadata": {},
   "outputs": [
    {
     "name": "stderr",
     "output_type": "stream",
     "text": [
      "C:\\Users\\Admin\\anaconda3\\lib\\site-packages\\category_encoders\\utils.py:21: FutureWarning: is_categorical is deprecated and will be removed in a future version.  Use is_categorical_dtype instead\n",
      "  elif pd.api.types.is_categorical(cols):\n"
     ]
    },
    {
     "name": "stdout",
     "output_type": "stream",
     "text": [
      "Meilleur score RMSE : 89282303097945.58\n",
      "Meilleur Score R2 : -17024868395465.434\n",
      "Meilleurs paramètres : {'regressor__fit_intercept': False, 'regressor__normalize': True}\n",
      "Temps moyen d'entrainement : 3.26s\n"
     ]
    }
   ],
   "source": [
    "SEUWN_mlr_model = mlr_grid_cv.fit(X_train, y2_train)\n",
    "SEUWN_mlr_results = model_scores(SEUWN_mlr_model, 'grid_search_mlr')"
   ]
  },
  {
   "cell_type": "raw",
   "metadata": {},
   "source": [
    "Nous avons à présent nos métriques de départ obtenues avec notre modèle de régression linéaire multivarié servant de baseline. Nous allons réaliser des modélisations en utilisant des modèles linéaires, non lineaires et methodes ensemblistes."
   ]
  },
  {
   "cell_type": "markdown",
   "metadata": {},
   "source": [
    "## Lasso"
   ]
  },
  {
   "cell_type": "code",
   "execution_count": 173,
   "metadata": {},
   "outputs": [],
   "source": [
    "from sklearn.compose import TransformedTargetRegressor\n",
    "from sklearn.linear_model import Lasso\n",
    "from sklearn.pipeline import Pipeline\n",
    "from sklearn.model_selection import GridSearchCV\n",
    "from sklearn import set_config\n",
    "set_config(display='diagram')\n",
    "\n",
    "\n",
    "param_lasso = {\"regressor__max_iter\": [10, 50, 100, 500, 1000],\n",
    "              \"regressor__alpha\": np.logspace(-5, 1, num=5),\n",
    "              \"regressor__fit_intercept\": [True, False]}\n",
    "\n",
    "lasso_grid_cv = Pipeline([\n",
    "    ('preprocessor', preprocessor),\n",
    "    ('grid_search_lasso', GridSearchCV(\n",
    "                            TransformedTargetRegressor(\n",
    "                                regressor=Lasso(), \n",
    "                                func=np.log, \n",
    "                                inverse_func=np.exp),\n",
    "                            param_grid=param_lasso,\n",
    "                            cv=5,\n",
    "                            scoring=('r2','neg_mean_squared_error'),\n",
    "                            return_train_score = True,\n",
    "                            refit='neg_mean_squared_error',\n",
    "                            n_jobs = -1))])"
   ]
  },
  {
   "cell_type": "code",
   "execution_count": 174,
   "metadata": {},
   "outputs": [
    {
     "name": "stderr",
     "output_type": "stream",
     "text": [
      "C:\\Users\\Admin\\anaconda3\\lib\\site-packages\\category_encoders\\utils.py:21: FutureWarning: is_categorical is deprecated and will be removed in a future version.  Use is_categorical_dtype instead\n",
      "  elif pd.api.types.is_categorical(cols):\n"
     ]
    },
    {
     "name": "stdout",
     "output_type": "stream",
     "text": [
      "Meilleur score RMSE : 790.161\n",
      "Meilleur Score R2 : -0.065\n",
      "Meilleurs paramètres : {'regressor__alpha': 0.31622776601683794, 'regressor__fit_intercept': True, 'regressor__max_iter': 10}\n",
      "Temps moyen d'entrainement : 4.44s\n"
     ]
    }
   ],
   "source": [
    "GHG_lasso_model = lasso_grid_cv.fit(X_train, y1_train)\n",
    "GHG_lasso_results = model_scores(GHG_lasso_model, 'grid_search_lasso')"
   ]
  },
  {
   "cell_type": "code",
   "execution_count": 175,
   "metadata": {},
   "outputs": [
    {
     "name": "stderr",
     "output_type": "stream",
     "text": [
      "C:\\Users\\Admin\\anaconda3\\lib\\site-packages\\category_encoders\\utils.py:21: FutureWarning: is_categorical is deprecated and will be removed in a future version.  Use is_categorical_dtype instead\n",
      "  elif pd.api.types.is_categorical(cols):\n"
     ]
    },
    {
     "name": "stdout",
     "output_type": "stream",
     "text": [
      "Meilleur score RMSE : 92040610.66\n",
      "Meilleur Score R2 : -11.181\n",
      "Meilleurs paramètres : {'regressor__alpha': 10.0, 'regressor__fit_intercept': True, 'regressor__max_iter': 10}\n",
      "Temps moyen d'entrainement : 4.6s\n"
     ]
    }
   ],
   "source": [
    "SEUWN_lasso_model = lasso_grid_cv.fit(X_train, y2_train)\n",
    "SEUWN_lasso_results = model_scores(SEUWN_lasso_model, 'grid_search_lasso')"
   ]
  },
  {
   "cell_type": "markdown",
   "metadata": {},
   "source": [
    "## Ridge"
   ]
  },
  {
   "cell_type": "code",
   "execution_count": 176,
   "metadata": {},
   "outputs": [],
   "source": [
    "from sklearn.compose import TransformedTargetRegressor\n",
    "from sklearn.linear_model import Ridge\n",
    "from sklearn.pipeline import Pipeline\n",
    "from sklearn.model_selection import GridSearchCV\n",
    "from sklearn import set_config\n",
    "set_config(display='diagram')\n",
    "\n",
    "param_ridge = {\"regressor__max_iter\": [10, 50, 100, 500, 1000],\n",
    "              \"regressor__alpha\": np.logspace(-5, 1, num=5),\n",
    "              \"regressor__fit_intercept\": [True, False]}\n",
    "\n",
    "ridge_grid_cv = Pipeline([\n",
    "    ('preprocessor', preprocessor),\n",
    "    ('grid_search_ridge', GridSearchCV(\n",
    "                            TransformedTargetRegressor(\n",
    "                                regressor=Ridge(), \n",
    "                                func=np.log, \n",
    "                                inverse_func=np.exp),\n",
    "                            param_grid=param_ridge,\n",
    "                            cv=5,\n",
    "                            scoring=('r2','neg_mean_squared_error'),\n",
    "                            return_train_score = True,\n",
    "                            refit='neg_mean_squared_error',\n",
    "                            n_jobs = -1))])"
   ]
  },
  {
   "cell_type": "code",
   "execution_count": 177,
   "metadata": {},
   "outputs": [
    {
     "name": "stderr",
     "output_type": "stream",
     "text": [
      "C:\\Users\\Admin\\anaconda3\\lib\\site-packages\\category_encoders\\utils.py:21: FutureWarning: is_categorical is deprecated and will be removed in a future version.  Use is_categorical_dtype instead\n",
      "  elif pd.api.types.is_categorical(cols):\n"
     ]
    },
    {
     "name": "stdout",
     "output_type": "stream",
     "text": [
      "Meilleur score RMSE : 1794.044\n",
      "Meilleur Score R2 : -18.981\n",
      "Meilleurs paramètres : {'regressor__alpha': 0.01, 'regressor__fit_intercept': False, 'regressor__max_iter': 10}\n",
      "Temps moyen d'entrainement : 2.97s\n"
     ]
    }
   ],
   "source": [
    "GHG_ridge_model = ridge_grid_cv.fit(X_train, y1_train)\n",
    "GHG_ridge_results = model_scores(GHG_ridge_model, 'grid_search_ridge')"
   ]
  },
  {
   "cell_type": "code",
   "execution_count": 178,
   "metadata": {},
   "outputs": [
    {
     "name": "stderr",
     "output_type": "stream",
     "text": [
      "C:\\Users\\Admin\\anaconda3\\lib\\site-packages\\category_encoders\\utils.py:21: FutureWarning: is_categorical is deprecated and will be removed in a future version.  Use is_categorical_dtype instead\n",
      "  elif pd.api.types.is_categorical(cols):\n"
     ]
    },
    {
     "name": "stdout",
     "output_type": "stream",
     "text": [
      "Meilleur score RMSE : 2244997196.98\n",
      "Meilleur Score R2 : -6790.859\n",
      "Meilleurs paramètres : {'regressor__alpha': 0.01, 'regressor__fit_intercept': False, 'regressor__max_iter': 10}\n",
      "Temps moyen d'entrainement : 3.3s\n"
     ]
    },
    {
     "name": "stderr",
     "output_type": "stream",
     "text": [
      "C:\\Users\\Admin\\anaconda3\\lib\\site-packages\\sklearn\\linear_model\\_ridge.py:147: LinAlgWarning: Ill-conditioned matrix (rcond=1.75252e-19): result may not be accurate.\n",
      "  return linalg.solve(A, Xy, sym_pos=True,\n"
     ]
    }
   ],
   "source": [
    "SEUWN_ridge_model = ridge_grid_cv.fit(X_train, y2_train)\n",
    "SEUWN_ridge_results = model_scores(SEUWN_ridge_model, 'grid_search_ridge')"
   ]
  },
  {
   "cell_type": "markdown",
   "metadata": {},
   "source": [
    "## Modèle ElasticNet"
   ]
  },
  {
   "cell_type": "code",
   "execution_count": 179,
   "metadata": {},
   "outputs": [],
   "source": [
    "from sklearn.linear_model import ElasticNet\n",
    "\n",
    "param_eNet = {\"regressor__max_iter\": [10, 100, 1000],\n",
    "              \"regressor__alpha\": np.logspace(-4, 0, num=5),\n",
    "              \"regressor__l1_ratio\": np.arange(0.0, 1.1, 0.1)}\n",
    "\n",
    "eNet_grid_cv = Pipeline([\n",
    "    ('preprocessor', preprocessor),\n",
    "    ('grid_search_enet', GridSearchCV(\n",
    "                            TransformedTargetRegressor(\n",
    "                                regressor=ElasticNet(), \n",
    "                                func=np.log, \n",
    "                                inverse_func=np.exp),\n",
    "                            param_grid=param_eNet,\n",
    "                            cv=5,\n",
    "                            scoring=('r2','neg_mean_squared_error'),\n",
    "                            return_train_score = True,\n",
    "                            refit='neg_mean_squared_error',\n",
    "                            n_jobs = -1))])"
   ]
  },
  {
   "cell_type": "code",
   "execution_count": 180,
   "metadata": {},
   "outputs": [
    {
     "name": "stderr",
     "output_type": "stream",
     "text": [
      "C:\\Users\\Admin\\anaconda3\\lib\\site-packages\\category_encoders\\utils.py:21: FutureWarning: is_categorical is deprecated and will be removed in a future version.  Use is_categorical_dtype instead\n",
      "  elif pd.api.types.is_categorical(cols):\n"
     ]
    },
    {
     "name": "stdout",
     "output_type": "stream",
     "text": [
      "Meilleur score RMSE : 790.107\n",
      "Meilleur Score R2 : -0.065\n",
      "Meilleurs paramètres : {'regressor__alpha': 0.1, 'regressor__l1_ratio': 0.8, 'regressor__max_iter': 100}\n",
      "Temps moyen d'entrainement : 4.89s\n"
     ]
    }
   ],
   "source": [
    "GHG_eNet_model = eNet_grid_cv.fit(X_train, y1_train)\n",
    "GHG_eNet_results = model_scores(GHG_eNet_model, 'grid_search_enet')"
   ]
  },
  {
   "cell_type": "code",
   "execution_count": 181,
   "metadata": {},
   "outputs": [
    {
     "name": "stderr",
     "output_type": "stream",
     "text": [
      "C:\\Users\\Admin\\anaconda3\\lib\\site-packages\\category_encoders\\utils.py:21: FutureWarning: is_categorical is deprecated and will be removed in a future version.  Use is_categorical_dtype instead\n",
      "  elif pd.api.types.is_categorical(cols):\n"
     ]
    },
    {
     "name": "stdout",
     "output_type": "stream",
     "text": [
      "Meilleur score RMSE : 647418680.631\n",
      "Meilleur Score R2 : -877.055\n",
      "Meilleurs paramètres : {'regressor__alpha': 1.0, 'regressor__l1_ratio': 1.0, 'regressor__max_iter': 10}\n",
      "Temps moyen d'entrainement : 5.38s\n"
     ]
    },
    {
     "name": "stderr",
     "output_type": "stream",
     "text": [
      "C:\\Users\\Admin\\anaconda3\\lib\\site-packages\\sklearn\\linear_model\\_coordinate_descent.py:530: ConvergenceWarning: Objective did not converge. You might want to increase the number of iterations. Duality gap: 3.5610893268421933, tolerance: 0.6535838824949285\n",
      "  model = cd_fast.enet_coordinate_descent(\n"
     ]
    }
   ],
   "source": [
    "SEUWN_eNet_model = eNet_grid_cv.fit(X_train, y2_train)\n",
    "SEUWN_eNet_results = model_scores(SEUWN_eNet_model, 'grid_search_enet')"
   ]
  },
  {
   "cell_type": "markdown",
   "metadata": {},
   "source": [
    "##  Modèle Support Vector Regression (SVR)"
   ]
  },
  {
   "cell_type": "code",
   "execution_count": 182,
   "metadata": {},
   "outputs": [],
   "source": [
    "from sklearn.svm import LinearSVR\n",
    "\n",
    "param_svr = {'regressor__C' : np.logspace(-4, 0, 5),\n",
    "             'regressor__epsilon' : [0, 0.01, 0.1, 0.5, 1, 2],\n",
    "             'regressor__loss' : [\"epsilon_insensitive\",\"squared_epsilon_insensitive\"],\n",
    "             'regressor__max_iter': [10, 100, 1000]}\n",
    "\n",
    "svr_grid_cv = Pipeline([\n",
    "    ('preprocessor', preprocessor),\n",
    "    ('grid_search_svr', GridSearchCV(\n",
    "                            TransformedTargetRegressor(\n",
    "                                regressor=LinearSVR(), \n",
    "                                func=np.log, \n",
    "                                inverse_func=np.exp),\n",
    "                            param_grid=param_svr,\n",
    "                            cv=5,\n",
    "                            scoring=('r2','neg_mean_squared_error'),\n",
    "                            refit='neg_mean_squared_error',\n",
    "                            return_train_score = True,\n",
    "                            n_jobs = -1))])"
   ]
  },
  {
   "cell_type": "code",
   "execution_count": 183,
   "metadata": {},
   "outputs": [
    {
     "name": "stderr",
     "output_type": "stream",
     "text": [
      "C:\\Users\\Admin\\anaconda3\\lib\\site-packages\\category_encoders\\utils.py:21: FutureWarning: is_categorical is deprecated and will be removed in a future version.  Use is_categorical_dtype instead\n",
      "  elif pd.api.types.is_categorical(cols):\n"
     ]
    },
    {
     "name": "stdout",
     "output_type": "stream",
     "text": [
      "Meilleur score RMSE : 66380.115\n",
      "Meilleur Score R2 : -29325.176\n",
      "Meilleurs paramètres : {'regressor__C': 0.0001, 'regressor__epsilon': 2, 'regressor__loss': 'squared_epsilon_insensitive', 'regressor__max_iter': 1000}\n",
      "Temps moyen d'entrainement : 22.68s\n"
     ]
    },
    {
     "name": "stderr",
     "output_type": "stream",
     "text": [
      "C:\\Users\\Admin\\anaconda3\\lib\\site-packages\\sklearn\\model_selection\\_search.py:918: UserWarning: One or more of the test scores are non-finite: [-6.32956247e+025 -1.95035668e+011 -3.55664305e+010 -3.89710919e+036\n",
      " -9.63546298e+018 -1.08032745e+038 -1.39935075e+033 -1.50902424e+161\n",
      " -3.01383072e+034             -inf -3.70822172e+019 -4.05757161e+129\n",
      " -4.82117999e+090 -5.50448897e+043 -2.34353490e+010 -3.65144740e+035\n",
      " -6.98452868e+017 -3.22579447e+261 -1.64271304e+030 -2.16629330e+017\n",
      " -3.63757999e+009 -1.03105284e+038 -6.93662031e+067 -2.33190166e+024\n",
      " -3.54737802e+036 -1.06410233e+098 -1.24059568e+033 -6.09934557e+030\n",
      " -3.95455636e+012 -1.70107201e+074 -1.97875977e+020 -3.41158393e+005\n",
      " -6.96544244e+014 -5.86159892e+025 -6.84627511e+033 -2.93251762e+004\n",
      " -3.09787952e+071 -9.39765464e+103 -1.63914217e+053 -9.13489389e+132\n",
      " -2.14525614e+040 -1.82070973e+012 -9.85191973e+065 -2.64536826e+027\n",
      " -1.41882235e+021 -1.08666626e+061 -5.75324495e+046 -1.75183237e+014\n",
      " -8.06104972e+039 -1.76910416e+034 -4.05639420e+009 -1.74293408e+048\n",
      " -1.76038238e+043 -7.69337917e+049 -3.30587438e+075 -4.25678574e+028\n",
      " -2.49987399e+007 -3.50545677e+095 -5.54596840e+043 -1.26051505e+016\n",
      " -4.28311265e+037 -1.01185633e+025 -2.31428549e+021 -3.53057409e+048\n",
      " -2.06974286e+050 -8.77950019e+047 -1.18046896e+034 -4.96867309e+017\n",
      " -1.41990590e+008 -3.27662905e+051 -2.37791539e+023 -1.24107912e+028\n",
      " -3.75471083e+057 -2.30624099e+062 -6.25118585e+019 -5.48959219e+053\n",
      " -3.73547623e+036 -6.76938242e+097 -9.14284310e+056 -1.79317185e+201\n",
      " -2.42305484e+018 -5.05741592e+057 -3.08429425e+051 -1.29377515e+060\n",
      " -7.10744519e+059 -5.54923178e+076 -5.10367248e+023 -2.39367944e+097\n",
      " -1.39017663e+158 -1.52632146e+032 -4.81541940e+225              nan\n",
      " -3.06261911e+018 -3.68813825e+038 -5.73169001e+056 -6.59096632e+030\n",
      " -9.52825995e+036 -8.95673641e+066 -5.03710593e+025 -5.73514178e+091\n",
      " -3.84909135e+032 -7.41422637e+024 -1.83378339e+036 -8.28318702e+035\n",
      " -4.24632630e+086 -9.45688418e+092 -1.73056747e+038 -3.12192822e+023\n",
      " -7.12710835e+041 -1.36435985e+066 -3.33977954e+050 -5.22079850e+044\n",
      " -2.19855199e+057 -3.63174969e+053 -7.58538872e+072 -8.44697365e+105\n",
      " -1.84231234e+039 -2.94763271e+048 -5.96883860e+039 -1.28049558e+045\n",
      " -2.45789632e+049 -6.09256605e+052 -1.68451884e+089 -7.56709564e+250\n",
      " -2.03733581e+048 -5.32705752e+022 -6.04767730e+063 -5.17255859e+038\n",
      "              nan -2.99988276e+038 -8.13639267e+045 -2.03679106e+036\n",
      " -7.85387814e+041 -1.42229254e+046 -4.14300011e+038 -1.36689014e+027\n",
      " -1.76869077e+034 -6.24445508e+030 -3.05888635e+031 -9.62606967e+029\n",
      " -5.64984432e+027 -7.87446584e+033 -6.92481495e+047 -2.10818802e+107\n",
      " -6.19247812e+046 -1.75884891e+213 -4.76933773e+055 -2.36867158e+051\n",
      " -6.35708614e+041 -2.51403786e+054 -5.74229060e+048 -1.18319155e+052\n",
      " -6.38976402e+038 -7.34017861e+052             -inf -4.19728061e+139\n",
      " -2.40535250e+053 -1.70321419e+054 -2.07048522e+033 -1.15582266e+049\n",
      "             -inf -1.57695311e+082 -7.36296629e+047 -2.44096176e+107\n",
      " -1.02964674e+030 -9.13935073e+043 -1.28355588e+036 -1.09612330e+056\n",
      " -3.19882032e+050 -1.17433789e+032 -2.07884582e+031 -2.04212884e+044\n",
      " -1.63447895e+032 -7.08583004e+039 -2.07318233e+030 -1.19079601e+027\n",
      " -1.42137164e+025 -5.13205807e+040 -8.02465003e+028 -6.83626214e+062]\n",
      "  warnings.warn(\n",
      "C:\\Users\\Admin\\anaconda3\\lib\\site-packages\\sklearn\\model_selection\\_search.py:925: RuntimeWarning: invalid value encountered in subtract\n",
      "  array_stds = np.sqrt(np.average((array -\n",
      "C:\\Users\\Admin\\anaconda3\\lib\\site-packages\\sklearn\\model_selection\\_search.py:925: RuntimeWarning: overflow encountered in square\n",
      "  array_stds = np.sqrt(np.average((array -\n",
      "C:\\Users\\Admin\\anaconda3\\lib\\site-packages\\sklearn\\model_selection\\_search.py:918: UserWarning: One or more of the train scores are non-finite: [-1.12245173e+030 -3.87311574e+008 -1.12168290e+011 -3.04487430e+036\n",
      " -5.37714740e+017 -1.34169432e+032 -1.79557259e+034 -4.75506267e+147\n",
      " -2.99880683e+031             -inf -1.32197852e+027 -3.59590842e+202\n",
      " -1.18851186e+070 -4.76978556e+121 -1.45633365e+013 -4.64184973e+035\n",
      " -7.53621045e+016             -inf -7.66193543e+028 -8.95653364e+017\n",
      " -2.07072744e+012 -4.78009972e+039 -1.19537081e+183 -9.79917806e+033\n",
      " -8.77256916e+032 -3.10667789e+115 -5.20994425e+045 -1.24584370e+032\n",
      " -3.01899227e+014 -1.94956105e+088 -8.15755353e+018 -1.18715802e+005\n",
      " -1.45072593e+013 -1.08554689e+044 -1.51249663e+038 -1.16817966e+008\n",
      " -5.06479360e+080 -7.40205272e+161 -1.22015641e+085 -2.11743087e+206\n",
      " -2.98294023e+060 -8.87911658e+014 -1.66010831e+102 -1.13136214e+037\n",
      " -1.27807065e+021 -2.99404753e+060 -2.90282905e+047 -1.01918011e+028\n",
      " -2.40182602e+044 -3.96410614e+068 -1.41367923e+012 -5.73270615e+059\n",
      " -1.34459506e+053 -3.36323770e+067 -2.04700939e+116 -9.34697461e+029\n",
      " -8.82416746e+006 -2.00241373e+124 -1.25594180e+047 -1.59234862e+023\n",
      " -9.91904586e+035 -2.85363389e+022 -1.71626873e+020 -2.49377689e+044\n",
      " -1.33267728e+031 -4.55053082e+064 -1.76186170e+095 -2.97677808e+014\n",
      " -9.96745090e+016 -7.68133621e+047 -3.44939071e+021 -5.44102157e+042\n",
      " -7.46445727e+070 -2.48985913e+065 -2.45143681e+042 -4.14456810e+052\n",
      " -9.76665640e+052 -1.13009377e+092 -4.52933992e+056 -1.09279035e+157\n",
      " -2.49733827e+018 -8.03813501e+059 -9.86594250e+065 -1.66327488e+046\n",
      " -4.77347721e+056 -2.31382032e+074 -2.10729756e+052 -4.51228076e+132\n",
      " -2.35368701e+244 -2.56856935e+091 -4.08403807e+196              nan\n",
      " -6.18875152e+050 -4.98663723e+053 -1.62215086e+089 -3.67574652e+029\n",
      " -7.76381268e+052 -3.99379060e+079 -2.09789672e+028 -3.59781714e+114\n",
      " -2.38999534e+030 -1.43183489e+023 -8.19145538e+034 -3.62149792e+052\n",
      " -2.57769770e+069 -5.26106663e+109 -3.61207448e+038 -6.98594246e+022\n",
      " -3.11359903e+041 -1.67540279e+097 -6.86576357e+065 -7.29626186e+043\n",
      " -9.14601669e+057 -2.34385256e+147 -5.33778083e+070 -1.58289906e+150\n",
      " -2.07460163e+044 -1.17613668e+051 -6.17833308e+041 -5.28675513e+042\n",
      " -7.75313744e+052 -2.59329752e+145 -3.20134641e+070 -1.15034795e+200\n",
      " -7.24731043e+063 -2.82809668e+025 -2.10595883e+064 -6.46031340e+045\n",
      "              nan -7.74939830e+035 -4.91859618e+049 -5.23409275e+036\n",
      " -8.38400404e+050 -1.61871357e+041 -4.17761303e+039 -2.71402797e+037\n",
      " -6.78503227e+040 -5.46147717e+042 -5.68604555e+040 -8.35349671e+031\n",
      " -1.47386650e+038 -2.78921761e+031 -5.44096353e+045 -1.06744235e+143\n",
      " -5.24747735e+063 -1.88059349e+282 -8.29379428e+056 -3.61200575e+059\n",
      " -2.31513834e+047 -5.10842632e+053 -8.98886842e+049 -2.82221382e+052\n",
      " -4.22082356e+038 -1.71401021e+055              nan -1.26631288e+112\n",
      " -2.77622050e+053 -2.26166365e+064 -6.48967746e+034 -2.09806984e+054\n",
      "             -inf -1.35887272e+060 -4.16428932e+044 -8.25772189e+076\n",
      " -2.67277969e+050 -1.44010767e+050 -8.16182626e+033 -1.22066106e+039\n",
      " -2.63808973e+049 -9.19558530e+056 -4.49944325e+030 -4.94138927e+044\n",
      " -5.21006456e+054 -2.36304915e+063 -2.01335607e+028 -1.28248309e+030\n",
      " -1.60920176e+029 -2.74351200e+051 -2.99668724e+026 -2.17141752e+050]\n",
      "  warnings.warn(\n",
      "C:\\Users\\Admin\\anaconda3\\lib\\site-packages\\sklearn\\model_selection\\_search.py:918: UserWarning: One or more of the test scores are non-finite: [-7.42488456e+031 -2.95953171e+016 -5.34919505e+015 -4.87744084e+041\n",
      " -5.61923737e+023 -6.29851297e+042 -8.27787072e+037 -8.79789619e+165\n",
      " -1.75712021e+039             -inf -5.57714597e+024 -4.75972880e+135\n",
      " -2.81083895e+095 -6.52254592e+048 -3.52528535e+015 -2.12886277e+040\n",
      " -1.05038264e+023 -4.85157790e+266 -2.47068071e+035 -1.26298989e+022\n",
      " -5.47086101e+014 -1.56271100e+044 -8.21955039e+072 -3.53447025e+030\n",
      " -2.06818857e+041 -1.60040430e+103 -1.88037455e+039 -4.80488089e+036\n",
      " -4.94755621e+017 -2.55840334e+079 -2.97839718e+025 -8.52512536e+010\n",
      " -1.04759888e+020 -1.53792074e+031 -1.02967617e+039 -4.40631971e+009\n",
      " -4.65919448e+076 -1.10239059e+110 -1.92279346e+059 -1.07156747e+139\n",
      " -1.25223511e+045 -2.16024539e+017 -1.48172354e+071 -3.93452087e+032\n",
      " -2.13390134e+026 -1.63434034e+066 -3.35425042e+051 -2.65447725e+020\n",
      " -1.25673624e+045 -2.51006399e+040 -6.10079151e+014 -2.03680099e+054\n",
      " -2.65886295e+048 -1.16608776e+056 -5.01072358e+081 -6.40520284e+033\n",
      " -3.76130016e+012 -5.27218852e+100 -8.34110727e+048 -1.91056624e+022\n",
      " -2.49713600e+042 -1.19899578e+030 -1.34927213e+026 -2.06153322e+053\n",
      " -1.20669916e+055 -1.33071144e+054 -1.76084087e+039 -7.47286507e+022\n",
      " -1.66135278e+014 -1.91033659e+056 -1.38637769e+028 -7.23572563e+032\n",
      " -4.40441370e+063 -3.46857431e+067 -7.40608111e+024 -8.25631764e+058\n",
      " -5.66187144e+042 -3.94667775e+102 -1.37507879e+062 -1.04545304e+206\n",
      " -1.41268721e+023 -7.60633061e+062 -1.80900593e+056 -7.54295336e+064\n",
      " -4.14377473e+064 -6.04938145e+081 -4.92002639e+029 -3.60008128e+102\n",
      " -1.63074479e+164 -1.80863320e+037 -2.80748042e+230              nan\n",
      " -2.18325706e+023 -5.54614849e+043 -6.72355109e+062 -9.91277864e+035\n",
      " -1.44418251e+043 -1.34708844e+072 -2.93672785e+030 -8.62562304e+096\n",
      " -4.56339012e+037 -8.78549249e+029 -2.17333580e+041 -9.45975465e+041\n",
      " -2.47568840e+091 -1.42231040e+098 -2.61783971e+044 -4.72957233e+029\n",
      " -8.44713645e+046 -1.86999550e+072 -3.91772380e+056 -3.04382482e+049\n",
      " -2.57897620e+063 -4.30344292e+058 -1.14083847e+078 -1.28031030e+112\n",
      " -2.77082806e+044 -3.43656373e+054 -2.03877392e+045 -1.51732364e+050\n",
      " -3.72544073e+055 -7.22012306e+057 -9.82106287e+093 -4.41175962e+255\n",
      " -2.07308358e+054 -6.24889777e+028 -3.52591004e+068 -7.77963273e+043\n",
      "              nan -4.51472939e+043 -6.81757789e+051 -3.08717024e+042\n",
      " -4.57895926e+046 -8.29223404e+050 -2.41544728e+043 -7.96922828e+031\n",
      " -2.07476079e+040 -9.38642541e+035 -1.78341905e+036 -1.13580823e+036\n",
      " -6.75683860e+032 -1.18431550e+039 -4.03729785e+052 -3.19538683e+113\n",
      " -7.33808654e+051 -2.66589250e+219 -5.65142822e+060 -1.38098025e+056\n",
      " -9.56102425e+046 -1.46573154e+059 -6.49583580e+054 -1.79336693e+058\n",
      " -7.57364826e+043 -8.69774692e+057             -inf -2.44709384e+144\n",
      " -1.40236592e+058 -2.56162517e+059 -3.11399888e+038 -1.36880382e+054\n",
      "             -inf -9.19393437e+086 -8.72508728e+052 -1.42312679e+112\n",
      " -1.56023611e+036 -1.07208997e+050 -7.48342506e+040 -6.39060575e+060\n",
      " -1.86497263e+055 -1.74620285e+038 -3.12634462e+036 -3.09508482e+050\n",
      " -2.47011883e+037 -8.31202320e+045 -2.45752303e+035 -1.10425575e+033\n",
      " -8.75433308e+029 -8.15845194e+045 -9.50881155e+033 -3.98566989e+067]\n",
      "  warnings.warn(\n",
      "C:\\Users\\Admin\\anaconda3\\lib\\site-packages\\sklearn\\model_selection\\_search.py:918: UserWarning: One or more of the train scores are non-finite: [-5.22230933e+035 -2.06975353e+014 -7.27630123e+016 -1.78562477e+042\n",
      " -3.99655709e+023 -9.97256926e+037 -1.33461419e+040 -2.21233640e+153\n",
      " -2.22895844e+037             -inf -9.53087407e+032 -1.67302929e+208\n",
      " -8.83399194e+075 -3.47682408e+127 -5.50195005e+018 -3.45020227e+041\n",
      " -5.43209692e+022             -inf -5.52318089e+034 -6.65722814e+023\n",
      " -1.49286941e+018 -1.80046012e+045 -8.71337708e+188 -3.69093331e+039\n",
      " -6.51920803e+038 -2.23977586e+121 -1.96236426e+051 -4.70303714e+037\n",
      " -2.20072828e+020 -1.40554635e+094 -3.69537647e+024 -8.07523958e+010\n",
      " -1.05409134e+019 -5.05060619e+049 -1.09044245e+044 -8.51516140e+013\n",
      " -3.65148974e+086 -3.44387274e+167 -5.67688933e+090 -9.85154081e+211\n",
      " -2.17434479e+066 -6.29350546e+020 -6.25292145e+107 -8.40920854e+042\n",
      " -9.21431799e+026 -2.15768262e+066 -2.09281840e+053 -3.83881771e+033\n",
      " -9.04665678e+049 -2.11802781e+074 -1.01919843e+018 -4.13302483e+065\n",
      " -5.06643652e+058 -1.26678850e+073 -7.71021316e+121 -3.53394075e+035\n",
      " -6.30466533e+012 -1.44365077e+130 -5.84338586e+052 -5.99769953e+028\n",
      " -7.37242991e+041 -2.07983887e+028 -1.27567126e+026 -1.81808023e+050\n",
      " -9.05903198e+036 -1.71399129e+070 -1.28426804e+101 -1.97067994e+020\n",
      " -4.63744766e+022 -5.70939716e+053 -2.56386885e+027 -3.96610593e+048\n",
      " -5.38153996e+076 -1.79507712e+071 -1.78691775e+048 -2.98783555e+058\n",
      " -4.54402623e+058 -8.14747080e+097 -3.26545158e+062 -8.12251147e+162\n",
      " -1.67773043e+024 -5.72976463e+065 -3.71608064e+071 -1.23628189e+052\n",
      " -3.54803858e+062 -1.68660542e+080 -1.53606547e+058 -3.25315269e+138\n",
      " -1.09507441e+250 -1.87229879e+097 -2.97696442e+202              nan\n",
      " -4.51114625e+056 -3.63489305e+059 -7.54720527e+094 -2.65008396e+035\n",
      " -2.92494849e+058 -2.87934446e+085 -7.90188408e+033 -2.59386530e+120\n",
      " -1.61690556e+036 -1.04369493e+029 -5.97077719e+040 -2.61093808e+058\n",
      " -1.91595570e+075 -3.79299383e+115 -1.36051717e+044 -2.63130790e+028\n",
      " -2.26890219e+047 -1.20789051e+103 -3.19435931e+071 -5.26038602e+049\n",
      " -4.38353164e+063 -1.70849672e+153 -3.84668611e+076 -5.96210707e+155\n",
      " -1.51057069e+050 -5.47258343e+056 -4.43747316e+047 -3.85365700e+048\n",
      " -2.92027689e+058 -1.89032382e+151 -2.37950242e+076 -8.55032661e+205\n",
      " -5.22498680e+069 -1.31579785e+031 -7.93478959e+069 -2.43341399e+051\n",
      "              nan -5.10811181e+041 -2.28842187e+055 -1.99951323e+042\n",
      " -3.15789749e+056 -1.20316020e+047 -3.10514360e+045 -1.36808007e+043\n",
      " -3.06280035e+046 -3.93748086e+048 -4.09938463e+046 -3.14689987e+037\n",
      " -1.06259185e+044 -2.01090120e+037 -4.04416899e+051 -4.02060103e+148\n",
      " -3.82502637e+069 -7.08339528e+287 -5.34987173e+062 -2.63288745e+065\n",
      " -8.72014504e+052 -3.79187479e+059 -4.18218780e+055 -1.06300783e+058\n",
      " -3.09045480e+044 -1.24938777e+061              nan -9.41227277e+117\n",
      " -2.06351408e+059 -1.63055838e+070 -4.67876730e+040 -1.52933904e+060\n",
      "             -inf -1.01002531e+066 -3.03545975e+050 -6.13781312e+082\n",
      " -1.24353512e+056 -6.70023265e+055 -6.06593908e+039 -9.07295112e+044\n",
      " -1.96084400e+055 -3.46358561e+062 -3.24404684e+036 -1.86121104e+050\n",
      " -2.42403020e+060 -1.09943023e+069 -1.26260852e+034 -5.97073624e+035\n",
      " -1.19609031e+035 -1.97739699e+057 -2.18434592e+032 -1.61397505e+056]\n",
      "  warnings.warn(\n",
      "C:\\Users\\Admin\\anaconda3\\lib\\site-packages\\sklearn\\svm\\_base.py:985: ConvergenceWarning: Liblinear failed to converge, increase the number of iterations.\n",
      "  warnings.warn(\"Liblinear failed to converge, increase \"\n"
     ]
    }
   ],
   "source": [
    "GHG_svr_model = svr_grid_cv.fit(X_train, y1_train)\n",
    "GHG_svr_results = model_scores(GHG_svr_model, 'grid_search_svr')"
   ]
  },
  {
   "cell_type": "code",
   "execution_count": 184,
   "metadata": {},
   "outputs": [
    {
     "name": "stderr",
     "output_type": "stream",
     "text": [
      "C:\\Users\\Admin\\anaconda3\\lib\\site-packages\\category_encoders\\utils.py:21: FutureWarning: is_categorical is deprecated and will be removed in a future version.  Use is_categorical_dtype instead\n",
      "  elif pd.api.types.is_categorical(cols):\n"
     ]
    },
    {
     "name": "stdout",
     "output_type": "stream",
     "text": [
      "Meilleur score RMSE : 25313470.205\n",
      "Meilleur Score R2 : -0.21\n",
      "Meilleurs paramètres : {'regressor__C': 0.0001, 'regressor__epsilon': 0, 'regressor__loss': 'epsilon_insensitive', 'regressor__max_iter': 10}\n",
      "Temps moyen d'entrainement : 15.6s\n"
     ]
    },
    {
     "name": "stderr",
     "output_type": "stream",
     "text": [
      "C:\\Users\\Admin\\anaconda3\\lib\\site-packages\\sklearn\\svm\\_base.py:985: ConvergenceWarning: Liblinear failed to converge, increase the number of iterations.\n",
      "  warnings.warn(\"Liblinear failed to converge, increase \"\n"
     ]
    }
   ],
   "source": [
    "SEUWN_svr_model = svr_grid_cv.fit(X_train, y2_train)\n",
    "SEUWN_svr_results = model_scores(SEUWN_svr_model, 'grid_search_svr')"
   ]
  },
  {
   "cell_type": "markdown",
   "metadata": {},
   "source": [
    "## Modèle RandomForestRegressor"
   ]
  },
  {
   "cell_type": "code",
   "execution_count": 185,
   "metadata": {},
   "outputs": [],
   "source": [
    "from sklearn.ensemble import RandomForestRegressor\n",
    "\n",
    "param_rfr = {'regressor__max_features' : ['sqrt', 'log2'],\n",
    "             'regressor__max_depth': [5, 15, 25, 50],\n",
    "             'regressor__min_samples_split': [2, 5, 10],\n",
    "             'regressor__bootstrap' : [True, False],\n",
    "             'regressor__min_samples_leaf': [1,2,5,10]}\n",
    "\n",
    "rfr_grid_cv = Pipeline([\n",
    "    ('preprocessor', preprocessor),\n",
    "    ('grid_search_rfr', GridSearchCV(\n",
    "                            TransformedTargetRegressor(\n",
    "                                regressor=RandomForestRegressor(), \n",
    "                                func=np.log, \n",
    "                                inverse_func=np.exp),\n",
    "                            param_grid=param_rfr,\n",
    "                            cv=5,\n",
    "                            scoring=('r2','neg_mean_squared_error'),\n",
    "                            refit='neg_mean_squared_error',\n",
    "                            return_train_score = True,\n",
    "                            n_jobs = -1))])\n"
   ]
  },
  {
   "cell_type": "code",
   "execution_count": 186,
   "metadata": {},
   "outputs": [
    {
     "name": "stderr",
     "output_type": "stream",
     "text": [
      "C:\\Users\\Admin\\anaconda3\\lib\\site-packages\\category_encoders\\utils.py:21: FutureWarning: is_categorical is deprecated and will be removed in a future version.  Use is_categorical_dtype instead\n",
      "  elif pd.api.types.is_categorical(cols):\n"
     ]
    },
    {
     "name": "stdout",
     "output_type": "stream",
     "text": [
      "Meilleur score RMSE : 787.357\n",
      "Meilleur Score R2 : -0.049\n",
      "Meilleurs paramètres : {'regressor__bootstrap': False, 'regressor__max_depth': 50, 'regressor__max_features': 'log2', 'regressor__min_samples_leaf': 2, 'regressor__min_samples_split': 2}\n",
      "Temps moyen d'entrainement : 392.62s\n"
     ]
    }
   ],
   "source": [
    "GHG_rfr_model = rfr_grid_cv.fit(X_train, y1_train)\n",
    "GHG_rfr_results = model_scores(GHG_rfr_model, 'grid_search_rfr')\n"
   ]
  },
  {
   "cell_type": "code",
   "execution_count": 188,
   "metadata": {},
   "outputs": [
    {
     "name": "stderr",
     "output_type": "stream",
     "text": [
      "C:\\Users\\Admin\\anaconda3\\lib\\site-packages\\category_encoders\\utils.py:21: FutureWarning: is_categorical is deprecated and will be removed in a future version.  Use is_categorical_dtype instead\n",
      "  elif pd.api.types.is_categorical(cols):\n"
     ]
    },
    {
     "name": "stdout",
     "output_type": "stream",
     "text": [
      "Meilleur score RMSE : 17318148.958\n",
      "Meilleur Score R2 : 0.5\n",
      "Meilleurs paramètres : {'regressor__bootstrap': False, 'regressor__max_depth': 50, 'regressor__max_features': 'sqrt', 'regressor__min_samples_leaf': 1, 'regressor__min_samples_split': 2}\n",
      "Temps moyen d'entrainement : 393.57s\n"
     ]
    }
   ],
   "source": [
    "SEUWN_rfr_model = rfr_grid_cv.fit(X_train, y2_train)\n",
    "SEUWN_rfr_results = model_scores(SEUWN_rfr_model, 'grid_search_rfr')"
   ]
  },
  {
   "cell_type": "markdown",
   "metadata": {},
   "source": [
    "##  Modèle gradient Boosting Regressor"
   ]
  },
  {
   "cell_type": "code",
   "execution_count": 189,
   "metadata": {},
   "outputs": [],
   "source": [
    "from sklearn import ensemble\n",
    "from sklearn.ensemble import GradientBoostingRegressor\n",
    "\n",
    "\n",
    "\n",
    "param_gbr = {'regressor__max_features' : ['sqrt', 'log2'],\n",
    "             'regressor__max_depth': [5, 15, 25, 50],\n",
    "             'regressor__min_samples_split': [2, 5, 10],\n",
    "             'regressor__min_samples_leaf': [1,2,5,10]}\n",
    "\n",
    "gbr_grid_cv = Pipeline([\n",
    "    ('preprocessor', preprocessor),\n",
    "    ('grid_search_gbr', GridSearchCV(\n",
    "                            TransformedTargetRegressor(\n",
    "                                regressor=GradientBoostingRegressor(), \n",
    "                                func=np.log, \n",
    "                                inverse_func=np.exp),\n",
    "                            param_grid=param_gbr,\n",
    "                            cv=5,\n",
    "                            scoring=('r2','neg_mean_squared_error'),\n",
    "                            refit='neg_mean_squared_error',\n",
    "                            return_train_score = True,\n",
    "                            n_jobs = -1))])\n"
   ]
  },
  {
   "cell_type": "code",
   "execution_count": 190,
   "metadata": {},
   "outputs": [
    {
     "name": "stderr",
     "output_type": "stream",
     "text": [
      "C:\\Users\\Admin\\anaconda3\\lib\\site-packages\\category_encoders\\utils.py:21: FutureWarning: is_categorical is deprecated and will be removed in a future version.  Use is_categorical_dtype instead\n",
      "  elif pd.api.types.is_categorical(cols):\n"
     ]
    },
    {
     "name": "stdout",
     "output_type": "stream",
     "text": [
      "Meilleur score RMSE : 784.763\n",
      "Meilleur Score R2 : -0.027\n",
      "Meilleurs paramètres : {'regressor__max_depth': 25, 'regressor__max_features': 'sqrt', 'regressor__min_samples_leaf': 5, 'regressor__min_samples_split': 10}\n",
      "Temps moyen d'entrainement : 389.75s\n"
     ]
    }
   ],
   "source": [
    "GHG_gbr_model = gbr_grid_cv.fit(X_train, y1_train)\n",
    "GHG_gbr_results = model_scores(GHG_gbr_model, 'grid_search_gbr')"
   ]
  },
  {
   "cell_type": "code",
   "execution_count": 191,
   "metadata": {},
   "outputs": [
    {
     "name": "stderr",
     "output_type": "stream",
     "text": [
      "C:\\Users\\Admin\\anaconda3\\lib\\site-packages\\category_encoders\\utils.py:21: FutureWarning: is_categorical is deprecated and will be removed in a future version.  Use is_categorical_dtype instead\n",
      "  elif pd.api.types.is_categorical(cols):\n"
     ]
    },
    {
     "name": "stdout",
     "output_type": "stream",
     "text": [
      "Meilleur score RMSE : 16512659.31\n",
      "Meilleur Score R2 : 0.548\n",
      "Meilleurs paramètres : {'regressor__max_depth': 50, 'regressor__max_features': 'sqrt', 'regressor__min_samples_leaf': 1, 'regressor__min_samples_split': 10}\n",
      "Temps moyen d'entrainement : 348.86s\n"
     ]
    }
   ],
   "source": [
    "SEUWN_gbr_model = gbr_grid_cv.fit(X_train, y2_train)\n",
    "SEUWN_gbr_results = model_scores(SEUWN_gbr_model, 'grid_search_gbr')"
   ]
  },
  {
   "cell_type": "markdown",
   "metadata": {},
   "source": [
    "## AdaBoostRegressor"
   ]
  },
  {
   "cell_type": "code",
   "execution_count": 192,
   "metadata": {},
   "outputs": [],
   "source": [
    "from sklearn import ensemble\n",
    "from sklearn.ensemble import AdaBoostRegressor\n",
    "\n",
    "\n",
    "\n",
    "param_abr = {'regressor__n_estimators': [50, 100],\n",
    "             'regressor__learning_rate' : [0.01,0.05,0.1,0.3,1],\n",
    "             'regressor__loss' : ['linear', 'square', 'exponential']}\n",
    "\n",
    "\n",
    "abr_grid_cv = Pipeline([\n",
    "    ('preprocessor', preprocessor),\n",
    "    ('grid_search_abr', GridSearchCV(\n",
    "                            TransformedTargetRegressor(\n",
    "                                regressor=AdaBoostRegressor(), \n",
    "                                func=np.log, \n",
    "                                inverse_func=np.exp),\n",
    "                            param_grid=param_abr,\n",
    "                            cv=5,\n",
    "                            scoring=('r2','neg_mean_squared_error'),\n",
    "                            refit='neg_mean_squared_error',\n",
    "                            return_train_score = True,\n",
    "                            n_jobs = -1))])\n"
   ]
  },
  {
   "cell_type": "code",
   "execution_count": 193,
   "metadata": {},
   "outputs": [
    {
     "name": "stderr",
     "output_type": "stream",
     "text": [
      "C:\\Users\\Admin\\anaconda3\\lib\\site-packages\\category_encoders\\utils.py:21: FutureWarning: is_categorical is deprecated and will be removed in a future version.  Use is_categorical_dtype instead\n",
      "  elif pd.api.types.is_categorical(cols):\n"
     ]
    },
    {
     "name": "stdout",
     "output_type": "stream",
     "text": [
      "Meilleur score RMSE : 788.538\n",
      "Meilleur Score R2 : -0.063\n",
      "Meilleurs paramètres : {'regressor__learning_rate': 1, 'regressor__loss': 'exponential', 'regressor__n_estimators': 100}\n",
      "Temps moyen d'entrainement : 309.9s\n"
     ]
    }
   ],
   "source": [
    "GHG_abr_model = abr_grid_cv.fit(X_train, y1_train)\n",
    "GHG_abr_results = model_scores(GHG_abr_model, 'grid_search_abr')"
   ]
  },
  {
   "cell_type": "code",
   "execution_count": 194,
   "metadata": {},
   "outputs": [
    {
     "name": "stderr",
     "output_type": "stream",
     "text": [
      "C:\\Users\\Admin\\anaconda3\\lib\\site-packages\\category_encoders\\utils.py:21: FutureWarning: is_categorical is deprecated and will be removed in a future version.  Use is_categorical_dtype instead\n",
      "  elif pd.api.types.is_categorical(cols):\n"
     ]
    },
    {
     "name": "stdout",
     "output_type": "stream",
     "text": [
      "Meilleur score RMSE : 20848186.87\n",
      "Meilleur Score R2 : 0.326\n",
      "Meilleurs paramètres : {'regressor__learning_rate': 0.01, 'regressor__loss': 'linear', 'regressor__n_estimators': 50}\n",
      "Temps moyen d'entrainement : 276.1s\n"
     ]
    }
   ],
   "source": [
    "SEUWN_abr_model = abr_grid_cv.fit(X_train, y2_train)\n",
    "SEUWN_abr_results = model_scores(SEUWN_abr_model, 'grid_search_abr')"
   ]
  },
  {
   "cell_type": "markdown",
   "metadata": {},
   "source": [
    "## DecisionTreeRegressor"
   ]
  },
  {
   "cell_type": "code",
   "execution_count": 195,
   "metadata": {},
   "outputs": [],
   "source": [
    "from sklearn.tree import DecisionTreeRegressor\n",
    "\n",
    "\n",
    "\n",
    "param_dtr = {'regressor__criterion':['mse','mae'],\n",
    "             'regressor__max_features':['auto', 'sqrt', 'log2'],\n",
    "             'regressor__max_depth':[1, 10, 50, 100,150, 200]}\n",
    "\n",
    "dtr_grid_cv = Pipeline([\n",
    "    ('preprocessor', preprocessor),\n",
    "    ('grid_search_dtr', GridSearchCV(\n",
    "                            TransformedTargetRegressor(\n",
    "                                regressor=DecisionTreeRegressor(), \n",
    "                                func=np.log, \n",
    "                                inverse_func=np.exp),\n",
    "                            param_grid=param_dtr,\n",
    "                            cv=5,\n",
    "                            scoring=('r2','neg_mean_squared_error'),\n",
    "                            refit='neg_mean_squared_error',\n",
    "                            return_train_score = True,\n",
    "                            n_jobs = -1))])\n"
   ]
  },
  {
   "cell_type": "code",
   "execution_count": 196,
   "metadata": {},
   "outputs": [
    {
     "name": "stderr",
     "output_type": "stream",
     "text": [
      "C:\\Users\\Admin\\anaconda3\\lib\\site-packages\\category_encoders\\utils.py:21: FutureWarning: is_categorical is deprecated and will be removed in a future version.  Use is_categorical_dtype instead\n",
      "  elif pd.api.types.is_categorical(cols):\n"
     ]
    },
    {
     "name": "stdout",
     "output_type": "stream",
     "text": [
      "Meilleur score RMSE : 789.934\n",
      "Meilleur Score R2 : -0.063\n",
      "Meilleurs paramètres : {'regressor__criterion': 'mse', 'regressor__max_depth': 1, 'regressor__max_features': 'auto'}\n",
      "Temps moyen d'entrainement : 52.9s\n"
     ]
    }
   ],
   "source": [
    "GHG_dtr_model = dtr_grid_cv.fit(X_train, y1_train)\n",
    "GHG_dtr_results = model_scores(GHG_dtr_model, 'grid_search_dtr')"
   ]
  },
  {
   "cell_type": "code",
   "execution_count": 197,
   "metadata": {},
   "outputs": [
    {
     "name": "stderr",
     "output_type": "stream",
     "text": [
      "C:\\Users\\Admin\\anaconda3\\lib\\site-packages\\category_encoders\\utils.py:21: FutureWarning: is_categorical is deprecated and will be removed in a future version.  Use is_categorical_dtype instead\n",
      "  elif pd.api.types.is_categorical(cols):\n"
     ]
    },
    {
     "name": "stdout",
     "output_type": "stream",
     "text": [
      "Meilleur score RMSE : 17060593.045\n",
      "Meilleur Score R2 : 0.411\n",
      "Meilleurs paramètres : {'regressor__criterion': 'mse', 'regressor__max_depth': 50, 'regressor__max_features': 'log2'}\n",
      "Temps moyen d'entrainement : 26.15s\n"
     ]
    }
   ],
   "source": [
    "SEUWN_dtr_model = dtr_grid_cv.fit(X_train, y2_train)\n",
    "SEUWN_dtr_results = model_scores(SEUWN_dtr_model, 'grid_search_dtr')"
   ]
  },
  {
   "cell_type": "markdown",
   "metadata": {},
   "source": [
    "## Modèle XGBoost "
   ]
  },
  {
   "cell_type": "code",
   "execution_count": 198,
   "metadata": {},
   "outputs": [],
   "source": [
    "import xgboost as xgb\n",
    "from sklearn.model_selection import RandomizedSearchCV\n",
    "\n",
    "param_xgb = {'regressor__learning_rate' : [0.001, 0.01, 0.1, 0.2, 0,3],\n",
    "             'regressor__gamma': [0, 0.25, 0.5, 1.0],\n",
    "             'regressor__max_depth': [6, 10, 15, 20],\n",
    "             'regressor__min_child_weight' : [0.5, 1.0, 3.0, 5.0, 7.0, 10.0],\n",
    "             'regressor__n_estimators': [25, 50, 100, 500, 1000]}\n",
    "\n",
    "xgb_grid_cv = Pipeline([\n",
    "    ('preprocessor', preprocessor),\n",
    "    ('grid_search_xgb', RandomizedSearchCV(\n",
    "                            TransformedTargetRegressor(\n",
    "                                regressor=xgb.XGBRegressor(tree_method='gpu_hist'), \n",
    "                                func=np.log, \n",
    "                                inverse_func=np.exp),\n",
    "                            param_distributions=param_xgb,\n",
    "                            n_iter=20,\n",
    "                            cv=5,\n",
    "                            scoring=('r2','neg_mean_squared_error'),\n",
    "                            refit='neg_mean_squared_error',\n",
    "                            return_train_score = True,\n",
    "                            n_jobs = -1))])\n"
   ]
  },
  {
   "cell_type": "code",
   "execution_count": 199,
   "metadata": {},
   "outputs": [
    {
     "name": "stderr",
     "output_type": "stream",
     "text": [
      "C:\\Users\\Admin\\anaconda3\\lib\\site-packages\\category_encoders\\utils.py:21: FutureWarning: is_categorical is deprecated and will be removed in a future version.  Use is_categorical_dtype instead\n",
      "  elif pd.api.types.is_categorical(cols):\n",
      "C:\\Users\\Admin\\anaconda3\\lib\\site-packages\\sklearn\\model_selection\\_search.py:918: UserWarning: One or more of the test scores are non-finite: [        nan -0.05872163         nan         nan -0.14715778 -0.13794079\n",
      " -0.05722861 -0.06507069 -0.04873287 -0.05241418 -0.14715778 -0.05047886\n",
      " -0.14655904 -0.06237986 -0.05871564 -0.14715778 -0.06576866 -0.05877081\n",
      " -0.13806833 -0.14715778]\n",
      "  warnings.warn(\n",
      "C:\\Users\\Admin\\anaconda3\\lib\\site-packages\\sklearn\\model_selection\\_search.py:918: UserWarning: One or more of the train scores are non-finite: [            nan  2.46005628e-01             nan             nan\n",
      " -5.92735262e-02 -5.58354343e-02  2.36493985e-01  2.39990080e-02\n",
      "  1.05178754e-01  1.59212292e-01 -5.92735262e-02  1.05815414e-01\n",
      " -5.90723531e-02  2.40560260e-04  2.47760856e-01 -5.92735262e-02\n",
      "  2.37581362e-02  5.43694782e-02 -5.57086081e-02 -5.92735262e-02]\n",
      "  warnings.warn(\n",
      "C:\\Users\\Admin\\anaconda3\\lib\\site-packages\\sklearn\\model_selection\\_search.py:918: UserWarning: One or more of the test scores are non-finite: [             nan -620457.22107616              nan              nan\n",
      " -640672.50995754 -638924.21852539 -618227.4362778  -622235.60411994\n",
      " -620466.58952579 -620400.62457073 -640672.50995754 -620228.82242331\n",
      " -640558.63338881 -623531.35189722 -619723.26062465 -640672.50995754\n",
      " -623710.89558856 -620623.30253159 -638938.00337882 -640672.50995754]\n",
      "  warnings.warn(\n",
      "C:\\Users\\Admin\\anaconda3\\lib\\site-packages\\sklearn\\model_selection\\_search.py:918: UserWarning: One or more of the train scores are non-finite: [             nan -456829.42845239              nan              nan\n",
      " -641729.91679485 -639746.11384636 -464469.49444894 -592943.46602534\n",
      " -544118.62358069 -511638.78006848 -641729.91679485 -542639.6655293\n",
      " -641614.52861163 -607115.40084179 -458328.43009747 -641729.91679485\n",
      " -592728.69220105 -572902.28847658 -639676.88203765 -641729.91679485]\n",
      "  warnings.warn(\n"
     ]
    },
    {
     "name": "stdout",
     "output_type": "stream",
     "text": [
      "Meilleur score RMSE : 786.274\n",
      "Meilleur Score R2 : -0.049\n",
      "Meilleurs paramètres : {'regressor__n_estimators': 50, 'regressor__min_child_weight': 0.5, 'regressor__max_depth': 15, 'regressor__learning_rate': 0.1, 'regressor__gamma': 0.25}\n",
      "Temps moyen d'entrainement : 17872.53s\n"
     ]
    }
   ],
   "source": [
    "GHG_xgb_model = xgb_grid_cv.fit(X_train, y1_train)\n",
    "GHG_xgb_results = model_scores(GHG_xgb_model, 'grid_search_xgb')"
   ]
  },
  {
   "cell_type": "code",
   "execution_count": 200,
   "metadata": {},
   "outputs": [
    {
     "name": "stderr",
     "output_type": "stream",
     "text": [
      "C:\\Users\\Admin\\anaconda3\\lib\\site-packages\\category_encoders\\utils.py:21: FutureWarning: is_categorical is deprecated and will be removed in a future version.  Use is_categorical_dtype instead\n",
      "  elif pd.api.types.is_categorical(cols):\n",
      "C:\\Users\\Admin\\anaconda3\\lib\\site-packages\\sklearn\\model_selection\\_search.py:918: UserWarning: One or more of the test scores are non-finite: [-2.10208556e-01 -2.10208512e-01  5.66144630e-01 -2.10208556e-01\n",
      "             nan  4.52053055e-01 -3.07779044e+00 -7.88965055e-02\n",
      "  4.83925302e-01  4.66083384e-01 -2.10208651e-01  4.66083384e-01\n",
      "  4.94437614e-01 -3.48874681e+02 -8.79906430e-01  5.08150952e-01\n",
      " -2.10208556e-01 -1.73202113e+01 -2.84569283e-01 -2.10208556e-01]\n",
      "  warnings.warn(\n",
      "C:\\Users\\Admin\\anaconda3\\lib\\site-packages\\sklearn\\model_selection\\_search.py:918: UserWarning: One or more of the train scores are non-finite: [-0.12990432 -0.12990429  0.99999022 -0.12990432         nan  0.82323264\n",
      "  0.62221815  0.99823544  0.73515618  0.70400606 -0.12990437  0.70400606\n",
      "  0.70668831  0.65963735  0.68886358  0.70956759 -0.12990432 -0.2350137\n",
      "  0.52521013 -0.12990432]\n",
      "  warnings.warn(\n",
      "C:\\Users\\Admin\\anaconda3\\lib\\site-packages\\sklearn\\model_selection\\_search.py:918: UserWarning: One or more of the test scores are non-finite: [-6.40771763e+14 -6.40771750e+14 -2.56466835e+14 -6.40771763e+14\n",
      "             nan -3.15096674e+14 -2.93797684e+15 -4.77498350e+14\n",
      " -3.22478742e+14 -3.04180651e+14 -6.40771791e+14 -3.04180651e+14\n",
      " -3.02583301e+14 -2.59872753e+17 -4.50848283e+14 -2.96320834e+14\n",
      " -6.40771763e+14 -8.22936252e+15 -6.24196260e+14 -6.40771763e+14]\n",
      "  warnings.warn(\n",
      "C:\\Users\\Admin\\anaconda3\\lib\\site-packages\\sklearn\\model_selection\\_search.py:918: UserWarning: One or more of the train scores are non-finite: [-6.40696764e+14 -6.40696751e+14 -5.44084499e+09 -6.40696764e+14\n",
      "             nan -1.00458416e+14 -2.14823129e+14 -1.17694767e+12\n",
      " -1.50375766e+14 -1.68023401e+14 -6.40696792e+14 -1.68023401e+14\n",
      " -1.66597311e+14 -1.78508210e+14 -1.78318643e+14 -1.65040838e+14\n",
      " -6.40696764e+14 -6.86137429e+14 -2.74138744e+14 -6.40696764e+14]\n",
      "  warnings.warn(\n"
     ]
    },
    {
     "name": "stdout",
     "output_type": "stream",
     "text": [
      "Meilleur score RMSE : 16014581.947\n",
      "Meilleur Score R2 : 0.566\n",
      "Meilleurs paramètres : {'regressor__n_estimators': 1000, 'regressor__min_child_weight': 0.5, 'regressor__max_depth': 6, 'regressor__learning_rate': 0.1, 'regressor__gamma': 0}\n",
      "Temps moyen d'entrainement : 26533.96s\n"
     ]
    }
   ],
   "source": [
    "SEUWN_xgb_model = xgb_grid_cv.fit(X_train, y2_train)\n",
    "SEUWN_xgb_results = model_scores(SEUWN_xgb_model, 'grid_search_xgb')"
   ]
  },
  {
   "cell_type": "markdown",
   "metadata": {},
   "source": [
    "#  Sélection du meilleur modèle"
   ]
  },
  {
   "cell_type": "raw",
   "metadata": {},
   "source": [
    "Sur les 10 modèles testés, nous prenons en considération le score RMSE, nous allons regarder de plus près les résultats obtenus sur nos 2 variables à prédire avec les différents modèles et choisir l' algorithme qui offre les meilleures performances sans oublier de prendre en compte les temps de calculs.\n",
    "\n"
   ]
  },
  {
   "cell_type": "markdown",
   "metadata": {},
   "source": [
    "## Modèle de prédiction des émissions de CO2"
   ]
  },
  {
   "cell_type": "code",
   "execution_count": 60,
   "metadata": {},
   "outputs": [],
   "source": [
    "metrics = ['mean_fit_time', 'mean_score_time',\n",
    "           'mean_test_neg_mean_squared_error',\n",
    "           'mean_train_neg_mean_squared_error']\n",
    "\n",
    "GHG_compare_metrics = pd.concat([pd.DataFrame(GHG_rfr_results[metrics].mean(), columns=['RandomForest']),\n",
    "           pd.DataFrame(GHG_gbr_results[metrics].mean(), columns=['GradientBoostingRegressor']),\n",
    "           pd.DataFrame(GHG_xgb_results[metrics].mean(), columns=['XGBRegressor']),    \n",
    "           pd.DataFrame(GHG_dtr_results[metrics].mean(), columns=['DecisionTreeRegressor']),\n",
    "           pd.DataFrame(GHG_abr_results[metrics].mean(), columns=['AdaBoostRegressor']),                      \n",
    "           pd.DataFrame(GHG_svr_results[metrics].mean(), columns=['SVR']),\n",
    "           pd.DataFrame(GHG_eNet_results[metrics].mean(), columns=['ElasticNet']),\n",
    "           pd.DataFrame(GHG_lasso_results[metrics].mean(), columns=['Lasso']),                      \n",
    "           pd.DataFrame(GHG_ridge_results[metrics].mean(), columns=['Ridge']),                     \n",
    "           pd.DataFrame(GHG_mlr_results[metrics].mean(), columns=['LinearRegression'])\n",
    "          ], axis=1)\n",
    "GHG_final_metrics_compare = pd.DataFrame(columns=metrics, \n",
    "                                     index=['RandomForest','GradientBoostingRegressor','XGBRegressor',\n",
    "                                            'DecisionTreeRegressor',\n",
    "                                            'AdaBoostRegressor', 'SVR','ElasticNet',\n",
    "                                            'Lasso', 'Ridge',\n",
    "                                            'LinearRegression'])\n",
    "for m in metrics:\n",
    "    GHG_final_metrics_compare[m] = GHG_compare_metrics.loc[m]"
   ]
  },
  {
   "cell_type": "code",
   "execution_count": 61,
   "metadata": {},
   "outputs": [
    {
     "data": {
      "text/html": [
       "<div>\n",
       "<style scoped>\n",
       "    .dataframe tbody tr th:only-of-type {\n",
       "        vertical-align: middle;\n",
       "    }\n",
       "\n",
       "    .dataframe tbody tr th {\n",
       "        vertical-align: top;\n",
       "    }\n",
       "\n",
       "    .dataframe thead th {\n",
       "        text-align: right;\n",
       "    }\n",
       "</style>\n",
       "<table border=\"1\" class=\"dataframe\">\n",
       "  <thead>\n",
       "    <tr style=\"text-align: right;\">\n",
       "      <th></th>\n",
       "      <th>mean_fit_time</th>\n",
       "      <th>mean_score_time</th>\n",
       "      <th>mean_test_neg_mean_squared_error</th>\n",
       "      <th>mean_train_neg_mean_squared_error</th>\n",
       "    </tr>\n",
       "  </thead>\n",
       "  <tbody>\n",
       "    <tr>\n",
       "      <th>RandomForest</th>\n",
       "      <td>0.284566</td>\n",
       "      <td>0.017040</td>\n",
       "      <td>-6.352852e+05</td>\n",
       "      <td>-5.770934e+05</td>\n",
       "    </tr>\n",
       "    <tr>\n",
       "      <th>GradientBoostingRegressor</th>\n",
       "      <td>0.259897</td>\n",
       "      <td>0.005913</td>\n",
       "      <td>-6.367546e+05</td>\n",
       "      <td>-2.481853e+05</td>\n",
       "    </tr>\n",
       "    <tr>\n",
       "      <th>XGBRegressor</th>\n",
       "      <td>11.057215</td>\n",
       "      <td>0.012897</td>\n",
       "      <td>-6.424254e+05</td>\n",
       "      <td>-4.954909e+05</td>\n",
       "    </tr>\n",
       "    <tr>\n",
       "      <th>DecisionTreeRegressor</th>\n",
       "      <td>0.035862</td>\n",
       "      <td>0.002596</td>\n",
       "      <td>-1.347430e+06</td>\n",
       "      <td>-1.824350e+05</td>\n",
       "    </tr>\n",
       "    <tr>\n",
       "      <th>AdaBoostRegressor</th>\n",
       "      <td>0.206198</td>\n",
       "      <td>0.011649</td>\n",
       "      <td>-6.353308e+05</td>\n",
       "      <td>-6.213824e+05</td>\n",
       "    </tr>\n",
       "    <tr>\n",
       "      <th>SVR</th>\n",
       "      <td>0.017068</td>\n",
       "      <td>0.002643</td>\n",
       "      <td>-inf</td>\n",
       "      <td>-inf</td>\n",
       "    </tr>\n",
       "    <tr>\n",
       "      <th>ElasticNet</th>\n",
       "      <td>0.003823</td>\n",
       "      <td>0.002421</td>\n",
       "      <td>-6.839075e+05</td>\n",
       "      <td>-6.328736e+05</td>\n",
       "    </tr>\n",
       "    <tr>\n",
       "      <th>Lasso</th>\n",
       "      <td>0.003485</td>\n",
       "      <td>0.002505</td>\n",
       "      <td>-2.637563e+09</td>\n",
       "      <td>-1.340267e+10</td>\n",
       "    </tr>\n",
       "    <tr>\n",
       "      <th>Ridge</th>\n",
       "      <td>0.002217</td>\n",
       "      <td>0.002130</td>\n",
       "      <td>-1.423971e+08</td>\n",
       "      <td>-2.090668e+09</td>\n",
       "    </tr>\n",
       "    <tr>\n",
       "      <th>LinearRegression</th>\n",
       "      <td>0.009977</td>\n",
       "      <td>0.004289</td>\n",
       "      <td>-7.524408e+05</td>\n",
       "      <td>-6.321065e+05</td>\n",
       "    </tr>\n",
       "  </tbody>\n",
       "</table>\n",
       "</div>"
      ],
      "text/plain": [
       "                           mean_fit_time  mean_score_time  \\\n",
       "RandomForest                    0.284566         0.017040   \n",
       "GradientBoostingRegressor       0.259897         0.005913   \n",
       "XGBRegressor                   11.057215         0.012897   \n",
       "DecisionTreeRegressor           0.035862         0.002596   \n",
       "AdaBoostRegressor               0.206198         0.011649   \n",
       "SVR                             0.017068         0.002643   \n",
       "ElasticNet                      0.003823         0.002421   \n",
       "Lasso                           0.003485         0.002505   \n",
       "Ridge                           0.002217         0.002130   \n",
       "LinearRegression                0.009977         0.004289   \n",
       "\n",
       "                           mean_test_neg_mean_squared_error  \\\n",
       "RandomForest                                  -6.352852e+05   \n",
       "GradientBoostingRegressor                     -6.367546e+05   \n",
       "XGBRegressor                                  -6.424254e+05   \n",
       "DecisionTreeRegressor                         -1.347430e+06   \n",
       "AdaBoostRegressor                             -6.353308e+05   \n",
       "SVR                                                    -inf   \n",
       "ElasticNet                                    -6.839075e+05   \n",
       "Lasso                                         -2.637563e+09   \n",
       "Ridge                                         -1.423971e+08   \n",
       "LinearRegression                              -7.524408e+05   \n",
       "\n",
       "                           mean_train_neg_mean_squared_error  \n",
       "RandomForest                                   -5.770934e+05  \n",
       "GradientBoostingRegressor                      -2.481853e+05  \n",
       "XGBRegressor                                   -4.954909e+05  \n",
       "DecisionTreeRegressor                          -1.824350e+05  \n",
       "AdaBoostRegressor                              -6.213824e+05  \n",
       "SVR                                                     -inf  \n",
       "ElasticNet                                     -6.328736e+05  \n",
       "Lasso                                          -1.340267e+10  \n",
       "Ridge                                          -2.090668e+09  \n",
       "LinearRegression                               -6.321065e+05  "
      ]
     },
     "execution_count": 61,
     "metadata": {},
     "output_type": "execute_result"
    }
   ],
   "source": [
    "GHG_final_metrics_compare"
   ]
  },
  {
   "cell_type": "code",
   "execution_count": 66,
   "metadata": {},
   "outputs": [
    {
     "data": {
      "image/png": "[encoded data removed]",
      "text/plain": [
       "<Figure size 2160x720 with 2 Axes>"
      ]
     },
     "metadata": {
      "needs_background": "light"
     },
     "output_type": "display_data"
    }
   ],
   "source": [
    "GHG_final_metrics_compare = GHG_final_metrics_compare[GHG_final_metrics_compare.index != 'LinearSVR']\n",
    "GHG_final_metrics_compare = GHG_final_metrics_compare[GHG_final_metrics_compare.index != 'Ridge']\n",
    "GHG_final_metrics_compare = GHG_final_metrics_compare[GHG_final_metrics_compare.index != 'Lasso']\n",
    "\n",
    "x = np.arange(len(GHG_final_metrics_compare.index))\n",
    "width = 0.2\n",
    "\n",
    "fig, ax = plt.subplots(1,2,figsize=(30,10), sharey=False, sharex=False)\n",
    "\n",
    "scores1 = ax[0].bar(x - width/2, -1*GHG_final_metrics_compare['mean_test_neg_mean_squared_error'], width, label='Test')\n",
    "scores2 = ax[0].bar(x + width/2, -1*GHG_final_metrics_compare['mean_train_neg_mean_squared_error'], width, label='Train')\n",
    "ax[0].set_ylabel('Mean Squared Error')\n",
    "ax[0].set_title('Comparaison des scores par modèle')\n",
    "ax[0].set_xticks(x)\n",
    "ax[0].set_xticklabels(GHG_final_metrics_compare.index)\n",
    "ax[0].legend()\n",
    "\n",
    "times1 = ax[1].bar(x - width/2, GHG_final_metrics_compare['mean_score_time'], width, label='Predict')\n",
    "times2 = ax[1].bar(x + width/2, GHG_final_metrics_compare['mean_fit_time'], width, label='Fit')\n",
    "ax[1].set_ylabel('Temps(s)')\n",
    "ax[1].set_title(\"Comparaison des temps d'entrainement et prédiction\")\n",
    "ax[1].set_xticks(x)\n",
    "ax[1].set_xticklabels(GHG_final_metrics_compare.index)\n",
    "ax[1].legend()\n",
    "\n",
    "plt.suptitle(\"Modélisations sur la variable TotalGHGEmissions\", fontsize=22)\n",
    "fig.tight_layout()\n",
    "\n",
    "plt.show()"
   ]
  },
  {
   "cell_type": "raw",
   "metadata": {},
   "source": [
    " Avec la projection graphique ci-dessus, on constate que le modèle RandomForest offre le meilleur compromis score / temps. Il est en effet meilleur en terme de score MSE et également bien le plus rapide.\n",
    "\n",
    "Le modèle retenu pour la modélisation de la variable TotalGHGEmissions est donc le modèle RandomForest. Nous allons à présent visualiser l'impact des hyperparamètres de la GridSearch :"
   ]
  },
  {
   "cell_type": "code",
   "execution_count": 67,
   "metadata": {},
   "outputs": [],
   "source": [
    "#Fonction d'affichage des scores de GridSearch pour chacun des paramètres\n",
    "def plot_search_results(grid, title): \n",
    "       \n",
    "    ## Résultats de la GridSearch\n",
    "    results = grid.cv_results_\n",
    "    means_test = results['mean_test_neg_mean_squared_error']\n",
    "    stds_test = results['std_test_neg_mean_squared_error']\n",
    "    means_train = results['mean_train_neg_mean_squared_error']\n",
    "    stds_train = results['std_train_neg_mean_squared_error']\n",
    "\n",
    "    ## Index de valeurs par hyper-paramètre\n",
    "    masks=[]\n",
    "    masks_names= list(grid.best_params_.keys())\n",
    "    for p_k, p_v in grid.best_params_.items():\n",
    "        masks.append(list(results['param_'+p_k].data==p_v))\n",
    "\n",
    "    params=grid.param_grid\n",
    "\n",
    "    \n",
    "    ## Plot des résultats\n",
    "    fig, ax = plt.subplots(1,len(params),sharex='none', sharey='all',figsize=(20,5))\n",
    "    fig.suptitle('Scores par paramètres pour la variable {}'.format(title), \n",
    "                 fontsize=22)\n",
    "    fig.text(0.04, 0.5, 'NEG MEAN SQUARED ERROR SCORE', va='center', rotation='vertical')\n",
    "    pram_preformace_in_best = {}\n",
    "    for i, p in enumerate(masks_names):\n",
    "        m = np.stack(masks[:i] + masks[i+1:])\n",
    "        pram_preformace_in_best\n",
    "        best_parms_mask = m.all(axis=0)\n",
    "        best_index = np.where(best_parms_mask)[0]\n",
    "        x = np.array(params[p])\n",
    "        y_1 = np.array(means_test[best_index])\n",
    "        e_1 = np.array(stds_test[best_index])\n",
    "        y_2 = np.array(means_train[best_index])\n",
    "        e_2 = np.array(stds_train[best_index])\n",
    "        ax[i].errorbar(x, y_1, e_1, linestyle='--', marker='o', label='test', color=\"#2cb7b0\")\n",
    "        ax[i].errorbar(x, y_2, e_2, linestyle='--', marker='o', label='train', color=\"#337da4\")\n",
    "        ax[i].set_xlabel(p.upper())\n",
    "\n",
    "    plt.legend()\n",
    "    plt.show()\n",
    "    \n",
    "    print(\"\\nRappel des meilleurs paramètres :\\n{}\".format(grid.best_params_))"
   ]
  },
  {
   "cell_type": "code",
   "execution_count": 68,
   "metadata": {},
   "outputs": [
    {
     "data": {
      "image/png": "[encoded data removed]",
      "text/plain": [
       "<Figure size 1440x360 with 5 Axes>"
      ]
     },
     "metadata": {
      "needs_background": "light"
     },
     "output_type": "display_data"
    },
    {
     "name": "stdout",
     "output_type": "stream",
     "text": [
      "\n",
      "Rappel des meilleurs paramètres :\n",
      "{'regressor__bootstrap': False, 'regressor__max_depth': 25, 'regressor__max_features': 'log2', 'regressor__min_samples_leaf': 1, 'regressor__min_samples_split': 5}\n"
     ]
    }
   ],
   "source": [
    "plot_search_results(GHG_rfr_model.named_steps['grid_search_rfr'], title=\"TotalGHGEmissions\")"
   ]
  },
  {
   "cell_type": "markdown",
   "metadata": {},
   "source": [
    " ## L'importance des variables sur le modèle RandomForestRegressor(Emission de CO2)"
   ]
  },
  {
   "cell_type": "raw",
   "metadata": {},
   "source": [
    " Regardons  l'importance des variables dans notre modèle de forêts aléatoires :"
   ]
  },
  {
   "cell_type": "code",
   "execution_count": 202,
   "metadata": {},
   "outputs": [
    {
     "name": "stderr",
     "output_type": "stream",
     "text": [
      "<ipython-input-164-9225fb64e142>:35: UserWarning: Transformer numeric (type RobustScaler) does not provide get_feature_names. Will return input column names if available\n",
      "  warnings.warn(\"Transformer %s (type %s) does not \"\n"
     ]
    },
    {
     "data": {
      "image/png": "[encoded data removed]",
      "text/plain": [
       "<Figure size 864x576 with 1 Axes>"
      ]
     },
     "metadata": {
      "needs_background": "light"
     },
     "output_type": "display_data"
    }
   ],
   "source": [
    "feature_importance = GHG_rfr_model.named_steps['grid_search_rfr'].best_estimator_.regressor_.feature_importances_ \n",
    "features_names = get_feature_names(GHG_rfr_model.named_steps['preprocessor'])\n",
    "std = np.std([\n",
    "    tree.feature_importances_ for tree in GHG_rfr_model.named_steps['grid_search_rfr'].best_estimator_.regressor_], axis=0)\n",
    "df_feature_importance = pd.Series(feature_importance, index=features_names)\n",
    "\n",
    "fig, ax = plt.subplots(figsize=(12,8))\n",
    "df_feature_importance.plot.bar(yerr=std, ax=ax)\n",
    "ax.set_title(\"Feature importances du modèle RandomForestRegressor sur les émissions de CO2\")\n",
    "ax.set_ylabel(\"Diminution moyenne des impuretés\")\n",
    "fig.tight_layout()"
   ]
  },
  {
   "cell_type": "raw",
   "metadata": {},
   "source": [
    "Les surfaces (GFA) de la propriété et le type d'utilisation principale ont une influence  tres importante sur notre modèle, contrairement au type de bâtiment, l'année de construction et surface de parking qui n'ont pas réellement un vrai impact."
   ]
  },
  {
   "cell_type": "markdown",
   "metadata": {},
   "source": [
    "## Modèle de prédiction des consommations d'énergie"
   ]
  },
  {
   "cell_type": "code",
   "execution_count": 70,
   "metadata": {},
   "outputs": [],
   "source": [
    "SEUWN_compare_metrics = pd.concat([pd.DataFrame(SEUWN_rfr_results[metrics].mean(), columns=['RandomForest']),\n",
    "           pd.DataFrame(SEUWN_gbr_results[metrics].mean(), columns=['GradientBoostingRegressor']),\n",
    "           pd.DataFrame(SEUWN_xgb_results[metrics].mean(), columns=['XGBRegressor']),    \n",
    "           pd.DataFrame(SEUWN_dtr_results[metrics].mean(), columns=['DecisionTreeRegressor']),\n",
    "           pd.DataFrame(SEUWN_abr_results[metrics].mean(), columns=['AdaBoostRegressor']),                      \n",
    "           pd.DataFrame(SEUWN_svr_results[metrics].mean(), columns=['SVR']),\n",
    "           pd.DataFrame(SEUWN_eNet_results[metrics].mean(), columns=['ElasticNet']),\n",
    "           pd.DataFrame(SEUWN_lasso_results[metrics].mean(), columns=['Lasso']),                      \n",
    "           pd.DataFrame(SEUWN_ridge_results[metrics].mean(), columns=['Ridge']),                     \n",
    "           pd.DataFrame(SEUWN_mlr_results[metrics].mean(), columns=['LinearRegression'])\n",
    "          ], axis=1)\n",
    "SEUWN_final_metrics_compare = pd.DataFrame(columns=metrics, \n",
    "                                     index=['RandomForest','GradientBoostingRegressor','XGBRegressor',\n",
    "                                            'DecisionTreeRegressor', 'AdaBoostRegressor',\n",
    "                                             'SVR','ElasticNet',\n",
    "                                            'Lasso', 'Ridge',\n",
    "                                            'LinearRegression'])\n",
    "for m in metrics:\n",
    "    SEUWN_final_metrics_compare[m] = SEUWN_compare_metrics.loc[m]"
   ]
  },
  {
   "cell_type": "code",
   "execution_count": 71,
   "metadata": {},
   "outputs": [
    {
     "data": {
      "text/html": [
       "<div>\n",
       "<style scoped>\n",
       "    .dataframe tbody tr th:only-of-type {\n",
       "        vertical-align: middle;\n",
       "    }\n",
       "\n",
       "    .dataframe tbody tr th {\n",
       "        vertical-align: top;\n",
       "    }\n",
       "\n",
       "    .dataframe thead th {\n",
       "        text-align: right;\n",
       "    }\n",
       "</style>\n",
       "<table border=\"1\" class=\"dataframe\">\n",
       "  <thead>\n",
       "    <tr style=\"text-align: right;\">\n",
       "      <th></th>\n",
       "      <th>mean_fit_time</th>\n",
       "      <th>mean_score_time</th>\n",
       "      <th>mean_test_neg_mean_squared_error</th>\n",
       "      <th>mean_train_neg_mean_squared_error</th>\n",
       "    </tr>\n",
       "  </thead>\n",
       "  <tbody>\n",
       "    <tr>\n",
       "      <th>RandomForest</th>\n",
       "      <td>0.286069</td>\n",
       "      <td>0.018991</td>\n",
       "      <td>-2.366111e+14</td>\n",
       "      <td>-1.562007e+14</td>\n",
       "    </tr>\n",
       "    <tr>\n",
       "      <th>GradientBoostingRegressor</th>\n",
       "      <td>0.234481</td>\n",
       "      <td>0.006212</td>\n",
       "      <td>-2.161719e+16</td>\n",
       "      <td>-8.620866e+13</td>\n",
       "    </tr>\n",
       "    <tr>\n",
       "      <th>XGBRegressor</th>\n",
       "      <td>14.143465</td>\n",
       "      <td>0.008264</td>\n",
       "      <td>-4.358066e+14</td>\n",
       "      <td>-2.454439e+14</td>\n",
       "    </tr>\n",
       "    <tr>\n",
       "      <th>DecisionTreeRegressor</th>\n",
       "      <td>0.020092</td>\n",
       "      <td>0.002696</td>\n",
       "      <td>-3.006071e+14</td>\n",
       "      <td>-6.148376e+13</td>\n",
       "    </tr>\n",
       "    <tr>\n",
       "      <th>AdaBoostRegressor</th>\n",
       "      <td>0.205899</td>\n",
       "      <td>0.011616</td>\n",
       "      <td>-2.985333e+14</td>\n",
       "      <td>-2.809134e+14</td>\n",
       "    </tr>\n",
       "    <tr>\n",
       "      <th>SVR</th>\n",
       "      <td>0.011178</td>\n",
       "      <td>0.002343</td>\n",
       "      <td>-4.304603e+14</td>\n",
       "      <td>-4.307676e+14</td>\n",
       "    </tr>\n",
       "    <tr>\n",
       "      <th>ElasticNet</th>\n",
       "      <td>0.004164</td>\n",
       "      <td>0.002435</td>\n",
       "      <td>-2.891462e+38</td>\n",
       "      <td>-5.979943e+16</td>\n",
       "    </tr>\n",
       "    <tr>\n",
       "      <th>Lasso</th>\n",
       "      <td>0.003697</td>\n",
       "      <td>0.002562</td>\n",
       "      <td>-2.111328e+38</td>\n",
       "      <td>-3.632500e+36</td>\n",
       "    </tr>\n",
       "    <tr>\n",
       "      <th>Ridge</th>\n",
       "      <td>0.002560</td>\n",
       "      <td>0.002343</td>\n",
       "      <td>-4.121638e+38</td>\n",
       "      <td>-1.347366e+35</td>\n",
       "    </tr>\n",
       "    <tr>\n",
       "      <th>LinearRegression</th>\n",
       "      <td>0.002398</td>\n",
       "      <td>0.002046</td>\n",
       "      <td>-6.411060e+38</td>\n",
       "      <td>-8.310732e+16</td>\n",
       "    </tr>\n",
       "  </tbody>\n",
       "</table>\n",
       "</div>"
      ],
      "text/plain": [
       "                           mean_fit_time  mean_score_time  \\\n",
       "RandomForest                    0.286069         0.018991   \n",
       "GradientBoostingRegressor       0.234481         0.006212   \n",
       "XGBRegressor                   14.143465         0.008264   \n",
       "DecisionTreeRegressor           0.020092         0.002696   \n",
       "AdaBoostRegressor               0.205899         0.011616   \n",
       "SVR                             0.011178         0.002343   \n",
       "ElasticNet                      0.004164         0.002435   \n",
       "Lasso                           0.003697         0.002562   \n",
       "Ridge                           0.002560         0.002343   \n",
       "LinearRegression                0.002398         0.002046   \n",
       "\n",
       "                           mean_test_neg_mean_squared_error  \\\n",
       "RandomForest                                  -2.366111e+14   \n",
       "GradientBoostingRegressor                     -2.161719e+16   \n",
       "XGBRegressor                                  -4.358066e+14   \n",
       "DecisionTreeRegressor                         -3.006071e+14   \n",
       "AdaBoostRegressor                             -2.985333e+14   \n",
       "SVR                                           -4.304603e+14   \n",
       "ElasticNet                                    -2.891462e+38   \n",
       "Lasso                                         -2.111328e+38   \n",
       "Ridge                                         -4.121638e+38   \n",
       "LinearRegression                              -6.411060e+38   \n",
       "\n",
       "                           mean_train_neg_mean_squared_error  \n",
       "RandomForest                                   -1.562007e+14  \n",
       "GradientBoostingRegressor                      -8.620866e+13  \n",
       "XGBRegressor                                   -2.454439e+14  \n",
       "DecisionTreeRegressor                          -6.148376e+13  \n",
       "AdaBoostRegressor                              -2.809134e+14  \n",
       "SVR                                            -4.307676e+14  \n",
       "ElasticNet                                     -5.979943e+16  \n",
       "Lasso                                          -3.632500e+36  \n",
       "Ridge                                          -1.347366e+35  \n",
       "LinearRegression                               -8.310732e+16  "
      ]
     },
     "execution_count": 71,
     "metadata": {},
     "output_type": "execute_result"
    }
   ],
   "source": [
    "SEUWN_final_metrics_compare"
   ]
  },
  {
   "cell_type": "code",
   "execution_count": 72,
   "metadata": {},
   "outputs": [
    {
     "data": {
      "image/png": "[encoded data removed]",
      "text/plain": [
       "<Figure size 2160x720 with 2 Axes>"
      ]
     },
     "metadata": {
      "needs_background": "light"
     },
     "output_type": "display_data"
    }
   ],
   "source": [
    "SEUWN_final_metrics_compare = SEUWN_final_metrics_compare[SEUWN_final_metrics_compare.index != 'LinearRegression'] \n",
    "SEUWN_final_metrics_compare = SEUWN_final_metrics_compare[SEUWN_final_metrics_compare.index != 'GradientBoostingRegressor']\n",
    "SEUWN_final_metrics_compare = SEUWN_final_metrics_compare[SEUWN_final_metrics_compare.index != 'Ridge']\n",
    "SEUWN_final_metrics_compare = SEUWN_final_metrics_compare[SEUWN_final_metrics_compare.index != 'Lasso']\n",
    "SEUWN_final_metrics_compare = SEUWN_final_metrics_compare[SEUWN_final_metrics_compare.index != 'ElasticNet']\n",
    "\n",
    "x = np.arange(len(SEUWN_final_metrics_compare.index))\n",
    "width = 0.25\n",
    "\n",
    "fig, ax = plt.subplots(1,2,figsize=(30,10), sharey=False, sharex=False)\n",
    "\n",
    "scores1 = ax[0].bar(x - width/2, -1*SEUWN_final_metrics_compare['mean_test_neg_mean_squared_error'], width, label='Test')\n",
    "scores2 = ax[0].bar(x + width/2, -1*SEUWN_final_metrics_compare['mean_train_neg_mean_squared_error'], width, label='Train')\n",
    "ax[0].set_ylabel('Mean Squared Error')\n",
    "ax[0].set_title('Comparaison des scores par modèle')\n",
    "ax[0].set_xticks(x)\n",
    "ax[0].set_xticklabels(SEUWN_final_metrics_compare.index)\n",
    "ax[0].legend()\n",
    "\n",
    "\n",
    "times1 = ax[1].bar(x - width/2, SEUWN_final_metrics_compare['mean_score_time'], width, label='Predict')\n",
    "times2 = ax[1].bar(x + width/2, SEUWN_final_metrics_compare['mean_fit_time'], width, label='Fit')\n",
    "ax[1].set_ylabel('Temps(s)')\n",
    "ax[1].set_title(\"Comparaison des temps d'entrainement et prédiction\")\n",
    "ax[1].set_xticks(x)\n",
    "ax[1].set_xticklabels(SEUWN_final_metrics_compare.index)\n",
    "ax[1].legend()\n",
    "\n",
    "\n",
    "plt.suptitle(\"Modélisations sur la variable SiteEnergyUseWN(kBtu)\", fontsize=22)\n",
    "fig.tight_layout()\n",
    "\n",
    "plt.show()"
   ]
  },
  {
   "cell_type": "raw",
   "metadata": {},
   "source": [
    " on constate que le modèle RandomForest offre le meilleur compromis score / temps. Il est en effet meilleur en terme de score MSE et également bien le plus rapide.\n",
    "\n",
    "Le modèle retenu pour la modélisation de la variable SiteEnergyUseWN(kBtu) est donc le modèle RandomForest. Nous allons à présent visualiser l'impact des hyperparamètres de la GridSearch :"
   ]
  },
  {
   "cell_type": "code",
   "execution_count": 73,
   "metadata": {},
   "outputs": [],
   "source": [
    "#Fonction d'affichage des scores de GridSearch pour chacun des paramètres\n",
    "def plot_search_results(grid, title): \n",
    "       \n",
    "    ## Résultats de la GridSearch\n",
    "    results = grid.cv_results_\n",
    "    means_test = results['mean_test_neg_mean_squared_error']\n",
    "    stds_test = results['std_test_neg_mean_squared_error']\n",
    "    means_train = results['mean_train_neg_mean_squared_error']\n",
    "    stds_train = results['std_train_neg_mean_squared_error']\n",
    "\n",
    "    ## Index de valeurs par hyper-paramètre\n",
    "    masks=[]\n",
    "    masks_names= list(grid.best_params_.keys())\n",
    "    for p_k, p_v in grid.best_params_.items():\n",
    "        masks.append(list(results['param_'+p_k].data==p_v))\n",
    "\n",
    "    params=grid.param_grid\n",
    "\n",
    "    \n",
    "    ## Plot des résultats\n",
    "    fig, ax = plt.subplots(1,len(params),sharex='none', sharey='all',figsize=(20,5))\n",
    "    fig.suptitle('Scores par paramètres pour la variable {}'.format(title), \n",
    "                 fontsize=22)\n",
    "    fig.text(0.04, 0.5, 'NEG MEAN SQUARED ERROR SCORE', va='center', rotation='vertical')\n",
    "    pram_preformace_in_best = {}\n",
    "    for i, p in enumerate(masks_names):\n",
    "        m = np.stack(masks[:i] + masks[i+1:])\n",
    "        pram_preformace_in_best\n",
    "        best_parms_mask = m.all(axis=0)\n",
    "        best_index = np.where(best_parms_mask)[0]\n",
    "        x = np.array(params[p])\n",
    "        y_1 = np.array(means_test[best_index])\n",
    "        e_1 = np.array(stds_test[best_index])\n",
    "        y_2 = np.array(means_train[best_index])\n",
    "        e_2 = np.array(stds_train[best_index])\n",
    "        ax[i].errorbar(x, y_1, e_1, linestyle='--', marker='o', label='test', color=\"#2cb7b0\")\n",
    "        ax[i].errorbar(x, y_2, e_2, linestyle='--', marker='o', label='train', color=\"#337da4\")\n",
    "        ax[i].set_xlabel(p.upper())\n",
    "\n",
    "    plt.legend()\n",
    "    plt.show()\n",
    "    \n",
    "    print(\"\\nRappel des meilleurs paramètres :\\n{}\".format(grid.best_params_))"
   ]
  },
  {
   "cell_type": "code",
   "execution_count": 75,
   "metadata": {},
   "outputs": [
    {
     "data": {
      "image/png": "[encoded data removed]",
      "text/plain": [
       "<Figure size 1440x360 with 5 Axes>"
      ]
     },
     "metadata": {
      "needs_background": "light"
     },
     "output_type": "display_data"
    },
    {
     "name": "stdout",
     "output_type": "stream",
     "text": [
      "\n",
      "Rappel des meilleurs paramètres :\n",
      "{'regressor__bootstrap': False, 'regressor__max_depth': 25, 'regressor__max_features': 'log2', 'regressor__min_samples_leaf': 1, 'regressor__min_samples_split': 5}\n"
     ]
    }
   ],
   "source": [
    "plot_search_results(SEUWN_rfr_model.named_steps['grid_search_rfr'], title=\"SiteEnergyUseWN(kBtu)\")"
   ]
  },
  {
   "cell_type": "markdown",
   "metadata": {},
   "source": [
    " ## L'importance des variables sur le modèle RandomForestRegressor(Consommation d'énergie)"
   ]
  },
  {
   "cell_type": "code",
   "execution_count": 203,
   "metadata": {
    "scrolled": true
   },
   "outputs": [
    {
     "name": "stderr",
     "output_type": "stream",
     "text": [
      "<ipython-input-164-9225fb64e142>:35: UserWarning: Transformer numeric (type RobustScaler) does not provide get_feature_names. Will return input column names if available\n",
      "  warnings.warn(\"Transformer %s (type %s) does not \"\n"
     ]
    },
    {
     "data": {
      "image/png": "[encoded data removed]",
      "text/plain": [
       "<Figure size 864x576 with 1 Axes>"
      ]
     },
     "metadata": {
      "needs_background": "light"
     },
     "output_type": "display_data"
    }
   ],
   "source": [
    "feature_importance = SEUWN_rfr_model.named_steps['grid_search_rfr'].best_estimator_.regressor_.feature_importances_ \n",
    "features_names = get_feature_names(SEUWN_rfr_model.named_steps['preprocessor'])\n",
    "std = np.std([\n",
    "    tree.feature_importances_ for tree in SEUWN_rfr_model.named_steps['grid_search_rfr'].best_estimator_.regressor_], axis=0)\n",
    "df_feature_importance = pd.Series(feature_importance, index=features_names)\n",
    "\n",
    "fig, ax = plt.subplots(figsize=(12,8))\n",
    "df_feature_importance.plot.bar(yerr=std, ax=ax)\n",
    "ax.set_title(\"Feature importances du modèle RandomForestRegressor sur la consommation d'énergie\")\n",
    "ax.set_ylabel(\"Diminution moyenne des impuretés\")\n",
    "fig.tight_layout()"
   ]
  },
  {
   "cell_type": "raw",
   "metadata": {},
   "source": [
    "Pour la consommation d'énergie, la surface de la propriété a également un impat plus supérieur par rapport aux autres variables"
   ]
  },
  {
   "cell_type": "markdown",
   "metadata": {},
   "source": [
    "## Les  performances des modèles sélectionnés"
   ]
  },
  {
   "cell_type": "raw",
   "metadata": {},
   "source": [
    " verifions les performances des modèles sélectionnés :"
   ]
  },
  {
   "cell_type": "code",
   "execution_count": 77,
   "metadata": {},
   "outputs": [],
   "source": [
    "## les emissions de CO2"
   ]
  },
  {
   "cell_type": "code",
   "execution_count": 79,
   "metadata": {},
   "outputs": [],
   "source": [
    "def metrics_model1(y1_test, y1_pred):\n",
    "    y1_test, y1_pred = np.array(y1_test), np.array(y1_pred)\n",
    "    diff = y1_test - y1_pred\n",
    "    mse = np.mean((diff)**2)\n",
    "    rmse = np.sqrt(mse)\n",
    "    #r2 = 1-(sum(diff**2)/sum((y1_test-np.mean(y1_test))**2))\n",
    "    dict_metrics = {\"Métrique\":[\"MSE\"], \"Résultats\":[mse]}\n",
    "    df_metrics = pd.DataFrame(dict_metrics)\n",
    "    return df_metrics\n",
    "#rmse = np.sqrt(metrics.mean_squared_error(y_test, y_test_pred_cv))"
   ]
  },
  {
   "cell_type": "code",
   "execution_count": 80,
   "metadata": {},
   "outputs": [],
   "source": [
    "def plot_pred_test1(y1_test, y1_pred, color=None, title=None):\n",
    "    X_plot = [y1_test.min(), y1_test.max()]\n",
    "    fig = plt.figure(figsize=(12,8))\n",
    "    plt.scatter(y1_test, y1_pred, color=color, alpha=.6)\n",
    "    plt.plot(X_plot, X_plot, color='r')\n",
    "    plt.xlabel(\"Valeurs réélles\")\n",
    "    plt.ylabel(\"Valeurs prédites\")\n",
    "    plt.title(\"Valeurs prédites VS valeurs réélles | Variable {}\".format(title), \n",
    "               fontsize=18)\n",
    "    plt.show()"
   ]
  },
  {
   "cell_type": "code",
   "execution_count": 81,
   "metadata": {},
   "outputs": [
    {
     "name": "stdout",
     "output_type": "stream",
     "text": [
      "Temps d'execution de l'agorithme : 0.018 s.\n"
     ]
    }
   ],
   "source": [
    "#Modèle avec les meilleurs paramètres pour les émissions de CO2\n",
    "\n",
    "import time\n",
    "start_time = time.time()\n",
    "\n",
    "GHG_pred = GHG_rfr_model.predict(X_test)\n",
    "\n",
    "print(\"Temps d'execution de l'agorithme : {:.2} s.\".format((time.time() - start_time)))\n"
   ]
  },
  {
   "cell_type": "code",
   "execution_count": 82,
   "metadata": {},
   "outputs": [
    {
     "data": {
      "text/html": [
       "<div>\n",
       "<style scoped>\n",
       "    .dataframe tbody tr th:only-of-type {\n",
       "        vertical-align: middle;\n",
       "    }\n",
       "\n",
       "    .dataframe tbody tr th {\n",
       "        vertical-align: top;\n",
       "    }\n",
       "\n",
       "    .dataframe thead th {\n",
       "        text-align: right;\n",
       "    }\n",
       "</style>\n",
       "<table border=\"1\" class=\"dataframe\">\n",
       "  <thead>\n",
       "    <tr style=\"text-align: right;\">\n",
       "      <th></th>\n",
       "      <th>Métrique</th>\n",
       "      <th>Résultats</th>\n",
       "    </tr>\n",
       "  </thead>\n",
       "  <tbody>\n",
       "    <tr>\n",
       "      <th>0</th>\n",
       "      <td>MSE</td>\n",
       "      <td>1.145747e+14</td>\n",
       "    </tr>\n",
       "  </tbody>\n",
       "</table>\n",
       "</div>"
      ],
      "text/plain": [
       "  Métrique     Résultats\n",
       "0      MSE  1.145747e+14"
      ]
     },
     "execution_count": 82,
     "metadata": {},
     "output_type": "execute_result"
    }
   ],
   "source": [
    "#Calcul des métriques pour les émissions de CO2\n",
    "GHGmetrics = metrics_model1(y1_test,GHG_pred)\n",
    "GHGmetrics"
   ]
  },
  {
   "cell_type": "raw",
   "metadata": {},
   "source": [
    " Nous allons vérifier la distribution des valaurs prédites en fonction des valeurs réélles :"
   ]
  },
  {
   "cell_type": "code",
   "execution_count": 83,
   "metadata": {},
   "outputs": [
    {
     "data": {
      "image/png": "[encoded data removed]",
      "text/plain": [
       "<Figure size 864x576 with 1 Axes>"
      ]
     },
     "metadata": {
      "needs_background": "light"
     },
     "output_type": "display_data"
    }
   ],
   "source": [
    "#Affichage des valeurs prédites vs valeurs réélles pour émissions de CO2\n",
    "plot_pred_test1(y1_test,GHG_pred, color=\"#9C3E2D\", title=\"TotalGHGEmissions\")"
   ]
  },
  {
   "cell_type": "raw",
   "metadata": {},
   "source": [
    "Les valeurs prédites sont très éloignées de la première bissectrice.Nous allons regarder les scores obtenus sur les différents splits de la Cross-validation pour vérifier les écarts :"
   ]
  },
  {
   "cell_type": "code",
   "execution_count": 84,
   "metadata": {},
   "outputs": [],
   "source": [
    "GHG_test_results = GHG_rfr_results[['split0_test_neg_mean_squared_error',\n",
    "                'split1_test_neg_mean_squared_error',\n",
    "                'split2_test_neg_mean_squared_error',\n",
    "                'split3_test_neg_mean_squared_error',\n",
    "                'split4_test_neg_mean_squared_error',\n",
    "                ]][GHG_rfr_results['rank_test_neg_mean_squared_error']==1].values\n",
    "GHG_train_results = GHG_rfr_results[['split0_train_neg_mean_squared_error',\n",
    "                'split1_train_neg_mean_squared_error',\n",
    "                'split2_train_neg_mean_squared_error',\n",
    "                'split3_train_neg_mean_squared_error',\n",
    "                'split4_train_neg_mean_squared_error',\n",
    "                ]][GHG_rfr_results['rank_test_neg_mean_squared_error']==1].values"
   ]
  },
  {
   "cell_type": "code",
   "execution_count": 85,
   "metadata": {},
   "outputs": [
    {
     "data": {
      "image/png": "[encoded data removed]",
      "text/plain": [
       "<Figure size 1440x576 with 2 Axes>"
      ]
     },
     "metadata": {
      "needs_background": "light"
     },
     "output_type": "display_data"
    }
   ],
   "source": [
    "x = np.arange(0,5,1)\n",
    "fig, ax = plt.subplots(1,2, figsize=(20,8), sharey=False, sharex=False)\n",
    "ax[0].plot(range(0,5), GHG_test_results.reshape(-1))\n",
    "ax[0].set_xticks(x)\n",
    "ax[0].set_xticklabels([\"Split\"+str(n) for n in range(0,5)])\n",
    "ax[0].set_ylabel('Neg Mean squared Error')\n",
    "ax[0].set_title('Scores de test')\n",
    "\n",
    "ax[1].plot(range(0,5), GHG_train_results.reshape(-1), color='b')\n",
    "ax[1].set_xticks(x)\n",
    "ax[1].set_xticklabels([\"Split\"+str(n) for n in range(0,5)])\n",
    "ax[1].set_title('Scores de train')\n",
    "\n",
    "plt.suptitle(\"Evolution des scores à travers les Splits de Cross-validation\", fontsize=22)\n",
    "fig.tight_layout()\n",
    "\n",
    "plt.show()"
   ]
  },
  {
   "cell_type": "raw",
   "metadata": {},
   "source": [
    "On voit ici que les scores des différents splits de cross-validation, pour les meilleurs paramètres obtenus, évoluent correctement lors de l'entrainement et des test, tout en restant dans la même échelle.\n",
    "\n",
    "Les écarts et mauvais résultats obtenus dépendent donc du faible nombre de données qui impactent le Train_Test_Split initial. Le modèle est correctement entrainé mais n'obtient pas de bon résultats sur le jeu de test (pas d'overfiting constaté dans les entrainements)."
   ]
  },
  {
   "cell_type": "code",
   "execution_count": 86,
   "metadata": {},
   "outputs": [],
   "source": [
    "## la consommation d'énergie"
   ]
  },
  {
   "cell_type": "code",
   "execution_count": 87,
   "metadata": {},
   "outputs": [],
   "source": [
    "def metrics_model2(y2_test, y2_pred):\n",
    "    y2_test, y2_pred = np.array(y2_test), np.array(y2_pred)\n",
    "    diff = y2_test - y2_pred\n",
    "    mse = np.mean((diff)**2)\n",
    "    rmse = np.sqrt(mse)\n",
    "    #r2 = 1-(sum(diff**2)/sum((y2_test-np.mean(y2_test))**2))\n",
    "    dict_metrics = {\"Métrique\":[\"MSE\"], \"Résultats\":[mse]}\n",
    "    df_metrics = pd.DataFrame(dict_metrics)\n",
    "    return df_metrics\n",
    "#rmse = np.sqrt(metrics.mean_squared_error(y_test, y_test_pred_cv))"
   ]
  },
  {
   "cell_type": "code",
   "execution_count": 88,
   "metadata": {},
   "outputs": [],
   "source": [
    "def plot_pred_test2(y2_test, y2_pred, color=None, title=None):\n",
    "    X_plot = [y2_test.min(), y2_test.max()]\n",
    "    fig = plt.figure(figsize=(12,8))\n",
    "    plt.scatter(y2_test, y2_pred, color=color, alpha=.6)\n",
    "    plt.plot(X_plot, X_plot, color='r')\n",
    "    plt.xlabel(\"Valeurs réélles\")\n",
    "    plt.ylabel(\"Valeurs prédites\")\n",
    "    plt.title(\"Valeurs prédites VS valeurs réélles | Variable {}\".format(title), \n",
    "               fontsize=18)\n",
    "    plt.show()"
   ]
  },
  {
   "cell_type": "code",
   "execution_count": 89,
   "metadata": {},
   "outputs": [
    {
     "name": "stdout",
     "output_type": "stream",
     "text": [
      "Temps d'execution de l'agorithme : 0.019 s.\n"
     ]
    }
   ],
   "source": [
    "start_time = time.time()\n",
    "\n",
    "SEUWN_pred = SEUWN_rfr_model.predict(X_test)\n",
    "\n",
    "print(\"Temps d'execution de l'agorithme : {:.2} s.\".format((time.time() - start_time)))"
   ]
  },
  {
   "cell_type": "code",
   "execution_count": 91,
   "metadata": {},
   "outputs": [
    {
     "data": {
      "text/html": [
       "<div>\n",
       "<style scoped>\n",
       "    .dataframe tbody tr th:only-of-type {\n",
       "        vertical-align: middle;\n",
       "    }\n",
       "\n",
       "    .dataframe tbody tr th {\n",
       "        vertical-align: top;\n",
       "    }\n",
       "\n",
       "    .dataframe thead th {\n",
       "        text-align: right;\n",
       "    }\n",
       "</style>\n",
       "<table border=\"1\" class=\"dataframe\">\n",
       "  <thead>\n",
       "    <tr style=\"text-align: right;\">\n",
       "      <th></th>\n",
       "      <th>Métrique</th>\n",
       "      <th>Résultats</th>\n",
       "    </tr>\n",
       "  </thead>\n",
       "  <tbody>\n",
       "    <tr>\n",
       "      <th>0</th>\n",
       "      <td>MSE</td>\n",
       "      <td>7.829220e+14</td>\n",
       "    </tr>\n",
       "  </tbody>\n",
       "</table>\n",
       "</div>"
      ],
      "text/plain": [
       "  Métrique     Résultats\n",
       "0      MSE  7.829220e+14"
      ]
     },
     "execution_count": 91,
     "metadata": {},
     "output_type": "execute_result"
    }
   ],
   "source": [
    "#Calcul des métriques pour les émissions de CO2\n",
    "SEUWNmetrics = metrics_model2(y2_test,SEUWN_pred)\n",
    "SEUWNmetrics"
   ]
  },
  {
   "cell_type": "code",
   "execution_count": 92,
   "metadata": {},
   "outputs": [
    {
     "data": {
      "image/png": "[encoded data removed]",
      "text/plain": [
       "<Figure size 864x576 with 1 Axes>"
      ]
     },
     "metadata": {
      "needs_background": "light"
     },
     "output_type": "display_data"
    }
   ],
   "source": [
    "#Affichage des valeurs prédites vs valeurs réélles pour émissions de CO2\n",
    "plot_pred_test2(y2_test,SEUWN_pred, color=\"#9C3E2D\", title=\"SiteEnergyUseWN(kBtu)\")"
   ]
  },
  {
   "cell_type": "raw",
   "metadata": {},
   "source": [
    "Ici encore, le même problème que pour la variable TotalGHG se pose. Le modèle est performant en entrainement mais ne parveint pas à généraliser sur le jeu de test."
   ]
  },
  {
   "cell_type": "code",
   "execution_count": 93,
   "metadata": {},
   "outputs": [],
   "source": [
    "SEUWN_test_results = SEUWN_rfr_results[['split0_test_neg_mean_squared_error',\n",
    "                'split1_test_neg_mean_squared_error',\n",
    "                'split2_test_neg_mean_squared_error',\n",
    "                'split3_test_neg_mean_squared_error',\n",
    "                'split4_test_neg_mean_squared_error',\n",
    "                ]][SEUWN_rfr_results['rank_test_neg_mean_squared_error']==1].values\n",
    "SEUWN_train_results = SEUWN_rfr_results[['split0_train_neg_mean_squared_error',\n",
    "                'split1_train_neg_mean_squared_error',\n",
    "                'split2_train_neg_mean_squared_error',\n",
    "                'split3_train_neg_mean_squared_error',\n",
    "                'split4_train_neg_mean_squared_error',\n",
    "                ]][SEUWN_rfr_results['rank_test_neg_mean_squared_error']==1].values"
   ]
  },
  {
   "cell_type": "code",
   "execution_count": 94,
   "metadata": {
    "scrolled": true
   },
   "outputs": [
    {
     "data": {
      "image/png": "[encoded data removed]",
      "text/plain": [
       "<Figure size 1440x576 with 2 Axes>"
      ]
     },
     "metadata": {
      "needs_background": "light"
     },
     "output_type": "display_data"
    }
   ],
   "source": [
    "x = np.arange(0,5,1)\n",
    "fig, ax = plt.subplots(1,2, figsize=(20,8), sharey=False, sharex=False)\n",
    "ax[0].plot(range(0,5), SEUWN_test_results.reshape(-1))\n",
    "ax[0].set_xticks(x)\n",
    "ax[0].set_xticklabels([\"Split\"+str(n) for n in range(0,5)])\n",
    "ax[0].set_ylabel('Neg Mean squared Error')\n",
    "ax[0].set_title('Scores de test')\n",
    "\n",
    "ax[1].plot(range(0,5), SEUWN_train_results.reshape(-1), color='b')\n",
    "ax[1].set_xticks(x)\n",
    "ax[1].set_xticklabels([\"Split\"+str(n) for n in range(0,5)])\n",
    "ax[1].set_title('Scores de train')\n",
    "\n",
    "plt.suptitle(\"Evolution des scores à travers les Splits de Cross-validation\", fontsize=22)\n",
    "fig.tight_layout()\n",
    "\n",
    "plt.show()"
   ]
  },
  {
   "cell_type": "code",
   "execution_count": 95,
   "metadata": {},
   "outputs": [
    {
     "data": {
      "text/html": [
       "<div>\n",
       "<style scoped>\n",
       "    .dataframe tbody tr th:only-of-type {\n",
       "        vertical-align: middle;\n",
       "    }\n",
       "\n",
       "    .dataframe tbody tr th {\n",
       "        vertical-align: top;\n",
       "    }\n",
       "\n",
       "    .dataframe thead th {\n",
       "        text-align: right;\n",
       "    }\n",
       "</style>\n",
       "<table border=\"1\" class=\"dataframe\">\n",
       "  <thead>\n",
       "    <tr style=\"text-align: right;\">\n",
       "      <th></th>\n",
       "      <th>BuildingType</th>\n",
       "      <th>PrimaryPropertyType</th>\n",
       "      <th>Neighborhood</th>\n",
       "      <th>YearBuilt</th>\n",
       "      <th>NumberofBuildings</th>\n",
       "      <th>NumberofFloors</th>\n",
       "      <th>PropertyGFATotal</th>\n",
       "      <th>PropertyGFAParking</th>\n",
       "      <th>PropertyGFABuilding(s)</th>\n",
       "      <th>LargestPropertyUseTypeGFA</th>\n",
       "      <th>SiteEnergyUseWN(kBtu)</th>\n",
       "    </tr>\n",
       "  </thead>\n",
       "  <tbody>\n",
       "    <tr>\n",
       "      <th>1365</th>\n",
       "      <td>NonResidential</td>\n",
       "      <td>Other</td>\n",
       "      <td>NORTHEAST</td>\n",
       "      <td>1946.0</td>\n",
       "      <td>1.0</td>\n",
       "      <td>1.0</td>\n",
       "      <td>20332.0</td>\n",
       "      <td>0.0</td>\n",
       "      <td>20332.0</td>\n",
       "      <td>20332.0</td>\n",
       "      <td>5.999483e+05</td>\n",
       "    </tr>\n",
       "    <tr>\n",
       "      <th>177</th>\n",
       "      <td>Nonresidential COS</td>\n",
       "      <td>Small- and Mid-Sized Office</td>\n",
       "      <td>NORTHWEST</td>\n",
       "      <td>1957.0</td>\n",
       "      <td>1.0</td>\n",
       "      <td>2.0</td>\n",
       "      <td>88073.5</td>\n",
       "      <td>0.0</td>\n",
       "      <td>88073.5</td>\n",
       "      <td>57968.0</td>\n",
       "      <td>1.001611e+07</td>\n",
       "    </tr>\n",
       "    <tr>\n",
       "      <th>1411</th>\n",
       "      <td>NonResidential</td>\n",
       "      <td>Worship Facility</td>\n",
       "      <td>BALLARD</td>\n",
       "      <td>1956.0</td>\n",
       "      <td>1.0</td>\n",
       "      <td>2.0</td>\n",
       "      <td>21562.0</td>\n",
       "      <td>0.0</td>\n",
       "      <td>21562.0</td>\n",
       "      <td>21052.0</td>\n",
       "      <td>1.017726e+06</td>\n",
       "    </tr>\n",
       "    <tr>\n",
       "      <th>849</th>\n",
       "      <td>NonResidential</td>\n",
       "      <td>Retail Store</td>\n",
       "      <td>DOWNTOWN</td>\n",
       "      <td>1919.0</td>\n",
       "      <td>1.0</td>\n",
       "      <td>2.0</td>\n",
       "      <td>25920.0</td>\n",
       "      <td>0.0</td>\n",
       "      <td>25920.0</td>\n",
       "      <td>38880.0</td>\n",
       "      <td>1.068761e+06</td>\n",
       "    </tr>\n",
       "    <tr>\n",
       "      <th>395</th>\n",
       "      <td>NonResidential</td>\n",
       "      <td>Large Office</td>\n",
       "      <td>LAKE UNION</td>\n",
       "      <td>1999.0</td>\n",
       "      <td>1.0</td>\n",
       "      <td>4.0</td>\n",
       "      <td>243334.0</td>\n",
       "      <td>103032.0</td>\n",
       "      <td>140302.0</td>\n",
       "      <td>138995.0</td>\n",
       "      <td>9.490269e+06</td>\n",
       "    </tr>\n",
       "    <tr>\n",
       "      <th>...</th>\n",
       "      <td>...</td>\n",
       "      <td>...</td>\n",
       "      <td>...</td>\n",
       "      <td>...</td>\n",
       "      <td>...</td>\n",
       "      <td>...</td>\n",
       "      <td>...</td>\n",
       "      <td>...</td>\n",
       "      <td>...</td>\n",
       "      <td>...</td>\n",
       "      <td>...</td>\n",
       "    </tr>\n",
       "    <tr>\n",
       "      <th>1321</th>\n",
       "      <td>NonResidential</td>\n",
       "      <td>Small- and Mid-Sized Office</td>\n",
       "      <td>CENTRAL</td>\n",
       "      <td>1971.0</td>\n",
       "      <td>1.0</td>\n",
       "      <td>2.0</td>\n",
       "      <td>39953.0</td>\n",
       "      <td>0.0</td>\n",
       "      <td>39953.0</td>\n",
       "      <td>30100.0</td>\n",
       "      <td>1.665069e+06</td>\n",
       "    </tr>\n",
       "    <tr>\n",
       "      <th>1658</th>\n",
       "      <td>NonResidential</td>\n",
       "      <td>Residence Hall</td>\n",
       "      <td>NORTHEAST</td>\n",
       "      <td>2011.0</td>\n",
       "      <td>1.0</td>\n",
       "      <td>0.0</td>\n",
       "      <td>176225.0</td>\n",
       "      <td>0.0</td>\n",
       "      <td>176225.0</td>\n",
       "      <td>176225.0</td>\n",
       "      <td>5.209464e+06</td>\n",
       "    </tr>\n",
       "    <tr>\n",
       "      <th>1340</th>\n",
       "      <td>NonResidential</td>\n",
       "      <td>Worship Facility</td>\n",
       "      <td>NORTHWEST</td>\n",
       "      <td>1951.0</td>\n",
       "      <td>1.0</td>\n",
       "      <td>2.0</td>\n",
       "      <td>21936.0</td>\n",
       "      <td>0.0</td>\n",
       "      <td>21936.0</td>\n",
       "      <td>21936.0</td>\n",
       "      <td>6.787773e+05</td>\n",
       "    </tr>\n",
       "    <tr>\n",
       "      <th>652</th>\n",
       "      <td>NonResidential</td>\n",
       "      <td>Warehouse</td>\n",
       "      <td>SOUTHWEST</td>\n",
       "      <td>1965.0</td>\n",
       "      <td>1.0</td>\n",
       "      <td>1.0</td>\n",
       "      <td>152365.0</td>\n",
       "      <td>0.0</td>\n",
       "      <td>152365.0</td>\n",
       "      <td>149293.0</td>\n",
       "      <td>1.182483e+06</td>\n",
       "    </tr>\n",
       "    <tr>\n",
       "      <th>285</th>\n",
       "      <td>NonResidential</td>\n",
       "      <td>Hotel</td>\n",
       "      <td>DOWNTOWN</td>\n",
       "      <td>1923.0</td>\n",
       "      <td>1.0</td>\n",
       "      <td>12.0</td>\n",
       "      <td>542305.0</td>\n",
       "      <td>0.0</td>\n",
       "      <td>542305.0</td>\n",
       "      <td>520102.5</td>\n",
       "      <td>6.210680e+07</td>\n",
       "    </tr>\n",
       "  </tbody>\n",
       "</table>\n",
       "<p>340 rows × 11 columns</p>\n",
       "</div>"
      ],
      "text/plain": [
       "            BuildingType          PrimaryPropertyType Neighborhood  YearBuilt  \\\n",
       "1365      NonResidential                        Other    NORTHEAST     1946.0   \n",
       "177   Nonresidential COS  Small- and Mid-Sized Office    NORTHWEST     1957.0   \n",
       "1411      NonResidential             Worship Facility      BALLARD     1956.0   \n",
       "849       NonResidential                 Retail Store     DOWNTOWN     1919.0   \n",
       "395       NonResidential                 Large Office   LAKE UNION     1999.0   \n",
       "...                  ...                          ...          ...        ...   \n",
       "1321      NonResidential  Small- and Mid-Sized Office      CENTRAL     1971.0   \n",
       "1658      NonResidential               Residence Hall    NORTHEAST     2011.0   \n",
       "1340      NonResidential             Worship Facility    NORTHWEST     1951.0   \n",
       "652       NonResidential                    Warehouse    SOUTHWEST     1965.0   \n",
       "285       NonResidential                        Hotel     DOWNTOWN     1923.0   \n",
       "\n",
       "      NumberofBuildings  NumberofFloors  PropertyGFATotal  PropertyGFAParking  \\\n",
       "1365                1.0             1.0           20332.0                 0.0   \n",
       "177                 1.0             2.0           88073.5                 0.0   \n",
       "1411                1.0             2.0           21562.0                 0.0   \n",
       "849                 1.0             2.0           25920.0                 0.0   \n",
       "395                 1.0             4.0          243334.0            103032.0   \n",
       "...                 ...             ...               ...                 ...   \n",
       "1321                1.0             2.0           39953.0                 0.0   \n",
       "1658                1.0             0.0          176225.0                 0.0   \n",
       "1340                1.0             2.0           21936.0                 0.0   \n",
       "652                 1.0             1.0          152365.0                 0.0   \n",
       "285                 1.0            12.0          542305.0                 0.0   \n",
       "\n",
       "      PropertyGFABuilding(s)  LargestPropertyUseTypeGFA  SiteEnergyUseWN(kBtu)  \n",
       "1365                 20332.0                    20332.0           5.999483e+05  \n",
       "177                  88073.5                    57968.0           1.001611e+07  \n",
       "1411                 21562.0                    21052.0           1.017726e+06  \n",
       "849                  25920.0                    38880.0           1.068761e+06  \n",
       "395                 140302.0                   138995.0           9.490269e+06  \n",
       "...                      ...                        ...                    ...  \n",
       "1321                 39953.0                    30100.0           1.665069e+06  \n",
       "1658                176225.0                   176225.0           5.209464e+06  \n",
       "1340                 21936.0                    21936.0           6.787773e+05  \n",
       "652                 152365.0                   149293.0           1.182483e+06  \n",
       "285                 542305.0                   520102.5           6.210680e+07  \n",
       "\n",
       "[340 rows x 11 columns]"
      ]
     },
     "execution_count": 95,
     "metadata": {},
     "output_type": "execute_result"
    }
   ],
   "source": [
    "final_SEUWN_test = pd.concat([X_test,y2_test],axis=1)\n",
    "final_SEUWN_test"
   ]
  },
  {
   "cell_type": "code",
   "execution_count": 96,
   "metadata": {},
   "outputs": [],
   "source": [
    "final_SEUWN_test = pd.concat([X_test,y2_test],axis=1)\n",
    "final_SEUWN_test['SEUWN_pred'] = SEUWN_pred\n",
    "compare_final_SEUWN_test = final_SEUWN_test = final_SEUWN_test.groupby(by='BuildingType').mean()"
   ]
  },
  {
   "cell_type": "raw",
   "metadata": {},
   "source": [
    "Nous allons regarder les écarts de prédiction en fonction du type de bâtiment pour vérifier si des écarts sont plus importants dans certaines catégories :"
   ]
  },
  {
   "cell_type": "code",
   "execution_count": 97,
   "metadata": {},
   "outputs": [
    {
     "data": {
      "image/png": "[encoded data removed]",
      "text/plain": [
       "<Figure size 1440x576 with 1 Axes>"
      ]
     },
     "metadata": {
      "needs_background": "light"
     },
     "output_type": "display_data"
    }
   ],
   "source": [
    "x = np.arange(len(compare_final_SEUWN_test.index))\n",
    "width = 0.35\n",
    "\n",
    "fig, ax = plt.subplots(figsize=(20,8), sharey=False, sharex=False)\n",
    "\n",
    "scores1 = ax.bar(x - width/2, compare_final_SEUWN_test['SiteEnergyUseWN(kBtu)'], width, label='SiteEnergyUseWN(kBtu)')\n",
    "scores2 = ax.bar(x + width/2, compare_final_SEUWN_test['SEUWN_pred'], width, label='Prédictions')\n",
    "ax.set_ylabel('(kBtu)')\n",
    "ax.set_xticks(x)\n",
    "ax.set_xticklabels(compare_final_SEUWN_test.index)\n",
    "ax.legend()\n",
    "\n",
    "\n",
    "plt.suptitle(\"Ecarts de prédictions sur la variable SiteEnergyUse(kBtu) par type de bâtiment\",  fontsize=22)\n",
    "fig.tight_layout()\n",
    "\n",
    "plt.show()\n"
   ]
  },
  {
   "cell_type": "raw",
   "metadata": {},
   "source": [
    "L'écart est très important sur la catégorie \"Campus\" qui est faiblement représentée dans le jeu de données mais qui présente les plus grandes consommations."
   ]
  },
  {
   "cell_type": "markdown",
   "metadata": {},
   "source": [
    "##  Influence du score ENERGY STAR Sur la variable TotalGHGEmissions"
   ]
  },
  {
   "cell_type": "code",
   "execution_count": 98,
   "metadata": {},
   "outputs": [],
   "source": [
    "#Ajout de la variable à nos variables X\n",
    "X['Energystar_Score'] = Energystar_Score\n",
    "#Ajout de la variable dans les variables numérique du preprocessor\n",
    "numeric_features.append('Energystar_Score')"
   ]
  },
  {
   "cell_type": "code",
   "execution_count": 99,
   "metadata": {},
   "outputs": [],
   "source": [
    "#Filtrage des données ayant un Energy Star Score renseigné\n",
    "X = X[X['Energystar_Score'].isnull()==False]\n",
    "y1 = y1[y1.index.isin(list(X.index))]\n",
    "y2 = y2[y2.index.isin(list(X.index))]"
   ]
  },
  {
   "cell_type": "code",
   "execution_count": 100,
   "metadata": {},
   "outputs": [
    {
     "data": {
      "text/plain": [
       "(1697, 11)"
      ]
     },
     "execution_count": 100,
     "metadata": {},
     "output_type": "execute_result"
    }
   ],
   "source": [
    "X.shape"
   ]
  },
  {
   "cell_type": "code",
   "execution_count": 101,
   "metadata": {},
   "outputs": [
    {
     "data": {
      "image/png": "[encoded data removed]",
      "text/plain": [
       "<Figure size 1440x576 with 2 Axes>"
      ]
     },
     "metadata": {
      "needs_background": "light"
     },
     "output_type": "display_data"
    }
   ],
   "source": [
    "fig, axes = plt.subplots(nrows=1, ncols=2, sharex=False, sharey=False, figsize=(20,8))\n",
    "sns.histplot(data=X, x='Energystar_Score', stat=\"density\", ax=axes[0])\n",
    "axes[0].set_title(\"Distribution\")\n",
    "sns.scatterplot(data=pd.concat([X,y1], axis=1), y='TotalGHGEmissions', x='Energystar_Score', ax=axes[1])\n",
    "axes[1].set_title(\"ENERGY STAR score en fonction de TotalGHGEmissions\")\n",
    "plt.suptitle(\"la variable ENERGY STAR Score\", fontsize=22)\n",
    "plt.show()"
   ]
  },
  {
   "cell_type": "code",
   "execution_count": 102,
   "metadata": {},
   "outputs": [
    {
     "name": "stdout",
     "output_type": "stream",
     "text": [
      "Entrainement: 1357 lignes,\n",
      "Test: 340 lignes.\n",
      "\n"
     ]
    }
   ],
   "source": [
    "X_train, X_test, y1_train, y1_test = train_test_split(X, y1, test_size=0.2, random_state=42)\n",
    "\n",
    "print(\"Entrainement: {} lignes,\\nTest: {} lignes.\\n\".format(X_train.shape[0],\n",
    "                                                            X_test.shape[0]))"
   ]
  },
  {
   "cell_type": "code",
   "execution_count": 103,
   "metadata": {},
   "outputs": [
    {
     "name": "stdout",
     "output_type": "stream",
     "text": [
      "Entrainement: 1357 lignes,\n",
      "Test: 340 lignes.\n",
      "\n"
     ]
    }
   ],
   "source": [
    "X_train, X_test, y2_train, y2_test = train_test_split(X, y2, test_size=0.2, random_state=42)\n",
    "\n",
    "print(\"Entrainement: {} lignes,\\nTest: {} lignes.\\n\".format(X_train.shape[0],\n",
    "                                                            X_test.shape[0]))"
   ]
  },
  {
   "cell_type": "code",
   "execution_count": 104,
   "metadata": {},
   "outputs": [],
   "source": [
    "rfr_grid_cv_eStar = Pipeline([\n",
    "    ('preprocessor', preprocessor),\n",
    "    ('grid_search_rfr_eStar', GridSearchCV(\n",
    "                            TransformedTargetRegressor(\n",
    "                                regressor=RandomForestRegressor(), \n",
    "                                func=np.log, \n",
    "                                inverse_func=np.exp),\n",
    "                            param_grid=param_rfr,\n",
    "                            cv=5,\n",
    "                            scoring=('r2','neg_mean_squared_error'),\n",
    "                            refit='neg_mean_squared_error',\n",
    "                            n_jobs = -1))])\n"
   ]
  },
  {
   "cell_type": "code",
   "execution_count": 105,
   "metadata": {},
   "outputs": [
    {
     "name": "stderr",
     "output_type": "stream",
     "text": [
      "C:\\Users\\Admin\\anaconda3\\lib\\site-packages\\category_encoders\\utils.py:21: FutureWarning: is_categorical is deprecated and will be removed in a future version.  Use is_categorical_dtype instead\n",
      "  elif pd.api.types.is_categorical(cols):\n"
     ]
    },
    {
     "name": "stdout",
     "output_type": "stream",
     "text": [
      "Meilleur score RMSE : 601.965\n",
      "Meilleur Score R2 : 0.469\n",
      "Meilleurs paramètres : {'regressor__bootstrap': False, 'regressor__max_depth': 15, 'regressor__max_features': 'sqrt', 'regressor__min_samples_leaf': 1, 'regressor__min_samples_split': 2}\n",
      "Temps moyen d'entrainement : 360.56s\n"
     ]
    }
   ],
   "source": [
    "GHG_rfr_model_eStar = rfr_grid_cv_eStar.fit(X_train, y1_train)\n",
    "GHG_rfr_results_eStar = model_scores(GHG_rfr_model_eStar, 'grid_search_rfr_eStar')"
   ]
  },
  {
   "cell_type": "raw",
   "metadata": {},
   "source": [
    "On utilise ici le meilleur modèle calculé sur la variable TotalGHGEmissions en incluant l'ENERGY STAR Score :"
   ]
  },
  {
   "cell_type": "code",
   "execution_count": 106,
   "metadata": {},
   "outputs": [
    {
     "data": {
      "text/html": [
       "<div>\n",
       "<style scoped>\n",
       "    .dataframe tbody tr th:only-of-type {\n",
       "        vertical-align: middle;\n",
       "    }\n",
       "\n",
       "    .dataframe tbody tr th {\n",
       "        vertical-align: top;\n",
       "    }\n",
       "\n",
       "    .dataframe thead th {\n",
       "        text-align: right;\n",
       "    }\n",
       "</style>\n",
       "<table border=\"1\" class=\"dataframe\">\n",
       "  <thead>\n",
       "    <tr style=\"text-align: right;\">\n",
       "      <th></th>\n",
       "      <th>Métrique</th>\n",
       "      <th>Sans ENERGY STAR</th>\n",
       "      <th>Avec ENERGY STAR</th>\n",
       "    </tr>\n",
       "  </thead>\n",
       "  <tbody>\n",
       "    <tr>\n",
       "      <th>0</th>\n",
       "      <td>MSE</td>\n",
       "      <td>1.145747e+14</td>\n",
       "      <td>42585.302155</td>\n",
       "    </tr>\n",
       "  </tbody>\n",
       "</table>\n",
       "</div>"
      ],
      "text/plain": [
       "  Métrique  Sans ENERGY STAR  Avec ENERGY STAR\n",
       "0      MSE      1.145747e+14      42585.302155"
      ]
     },
     "execution_count": 106,
     "metadata": {},
     "output_type": "execute_result"
    }
   ],
   "source": [
    "GHG_pred_star = GHG_rfr_model_eStar.predict(X_test)\n",
    "#Calcul la métrique RMSE pour les émissions de CO2\n",
    "GHGmetricsES = metrics_model1(y1_test, GHG_pred_star)\n",
    "GHGmetrics = GHGmetrics.rename(columns={\"Résultats\" : \"Sans ENERGY STAR\"})\n",
    "GHGmetrics['Avec ENERGY STAR'] = GHGmetricsES['Résultats']\n",
    "GHGmetrics"
   ]
  },
  {
   "cell_type": "code",
   "execution_count": 107,
   "metadata": {},
   "outputs": [
    {
     "data": {
      "image/png": "[encoded data removed]",
      "text/plain": [
       "<Figure size 864x576 with 1 Axes>"
      ]
     },
     "metadata": {
      "needs_background": "light"
     },
     "output_type": "display_data"
    }
   ],
   "source": [
    "#Affichage des valeurs prédites vs valeurs réélles pour émissions de CO2\n",
    "plot_pred_test1(y1_test, GHG_pred_star, title=\"TotalGHGEmissions\")"
   ]
  }
 ],
 "metadata": {
  "kernelspec": {
   "display_name": "Python 3",
   "language": "python",
   "name": "python3"
  },
  "language_info": {
   "codemirror_mode": {
    "name": "ipython",
    "version": 3
   },
   "file_extension": ".py",
   "mimetype": "text/x-python",
   "name": "python",
   "nbconvert_exporter": "python",
   "pygments_lexer": "ipython3",
   "version": "3.8.5"
  }
 },
 "nbformat": 4,
 "nbformat_minor": 4
}
